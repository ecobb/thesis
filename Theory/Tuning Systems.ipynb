{
 "cells": [
  {
   "cell_type": "markdown",
   "id": "33fb061c",
   "metadata": {},
   "source": [
    "This is a document containing a rough mathematical schematic for the identification of tuning systems. "
   ]
  },
  {
   "cell_type": "markdown",
   "id": "12418d69",
   "metadata": {},
   "source": [
    "# Just Intonation\n",
    "\n",
    "Just intonation is a relational tuning system in which all intervals are constructed according to a **dominating pitch.** Intervals tuned in relation to this dominating pitch obey the following frequency relationships: \n",
    "\n",
    "| Interval | Frequency Ratio |\n",
    "| :------: | :-------------: |\n",
    "|Unison | 1:1 |\n",
    "| Minor 2nd | 12:11 |\n",
    "| Major 2nd | 9:8 |\n",
    "| Minor 3rd | 6:5 |\n",
    "| Major 3rd | 5:4 |\n",
    "| Perfect 4th | 4:3 |\n",
    "| Tritone | 7:5 |\n",
    "| Perfect 5th | 3:2 |\n",
    "| Minor 6th | 8:5 |\n",
    "| Major 6th | 5:3 |\n",
    "| Minor 7th | 7:4 |\n",
    "| Major 7th | 11:6 |\n",
    "| Octave | 2:1 |"
   ]
  },
  {
   "cell_type": "markdown",
   "id": "1052f743",
   "metadata": {},
   "source": [
    "Estimating just intonation in audio files\n",
    "\n",
    "Within a scale\n",
    "\n",
    "For a particular scale, the task is somewhat trivial: find the root of the scale and use that as the dominating pitch. Then you can judge the relative deviation of the other notes from their just values. In theory, the root and octave above should be integer multiples of each other; in practice this is obviously rare. Since however, the interval of the octave remains the same in all 3 tuning systems, we exclude the calcualtion of the octave from the identification of the system. The formula to calculate the deviation would be something like this: "
   ]
  },
  {
   "cell_type": "markdown",
   "id": "30b21856",
   "metadata": {},
   "source": [
    "Let $J_i$ equal the ith frequency ratio according to the just intonation system for a particular dominating pitch for $i = 0, ...12$. Let $f_i$ be the ith semitone in the given scale instance for $i = 0, ...11$. For instance, if the dominating pitch is C, then the note E would correspond to i = 4. We can compute the deviation as follows: "
   ]
  },
  {
   "cell_type": "markdown",
   "id": "f6a189ae",
   "metadata": {},
   "source": [
    "$$RMSE = \\sqrt{\\sum \\limits _{i=0} ^{11} (J_i - f_i)^2} $$\n",
    "\n",
    "Here, the $f_i$ have been normalized by dividing by the frequency value of the dominating pitch, so they all end up in the range $(1, 2)$. "
   ]
  },
  {
   "cell_type": "code",
   "execution_count": null,
   "id": "fc8ae1a3",
   "metadata": {},
   "outputs": [],
   "source": []
  },
  {
   "cell_type": "markdown",
   "id": "10a69b8a",
   "metadata": {},
   "source": [
    "# Pythagorean Intonation"
   ]
  },
  {
   "cell_type": "markdown",
   "id": "a124877f",
   "metadata": {},
   "source": [
    "In pythagorean intonation, frequency ratios are all calculated based off the interval of the perfect fifth 3:2. "
   ]
  },
  {
   "cell_type": "markdown",
   "id": "593c4c19",
   "metadata": {},
   "source": [
    "# Equal Temperament\n",
    "\n",
    "This is perhaps the simplest of the three tuning systems; the octave is divided into 12 equal semitones and therefore contains no relational information. All that is required is an estimation of the tuning of the A string and the values of the rest of the pitches are determined. This thus can serve as a good baseline to judge the values of the notes. "
   ]
  },
  {
   "cell_type": "code",
   "execution_count": null,
   "id": "fadcd860",
   "metadata": {},
   "outputs": [],
   "source": []
  }
 ],
 "metadata": {
  "kernelspec": {
   "display_name": "Python 3",
   "language": "python",
   "name": "python3"
  },
  "language_info": {
   "codemirror_mode": {
    "name": "ipython",
    "version": 3
   },
   "file_extension": ".py",
   "mimetype": "text/x-python",
   "name": "python",
   "nbconvert_exporter": "python",
   "pygments_lexer": "ipython3",
   "version": "3.8.8"
  }
 },
 "nbformat": 4,
 "nbformat_minor": 5
}
