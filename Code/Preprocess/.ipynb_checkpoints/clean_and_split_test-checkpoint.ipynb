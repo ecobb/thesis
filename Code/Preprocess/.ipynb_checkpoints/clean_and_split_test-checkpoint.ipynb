{
 "cells": [
  {
   "cell_type": "code",
   "execution_count": null,
   "id": "104f9fe8-45e6-4aa5-a455-1c75d627539c",
   "metadata": {},
   "outputs": [],
   "source": [
    "import librosa, librosa.display\n",
    "import os\n",
    "from pydub import AudioSegment\n",
    "from pydub.utils import make_chunks\n",
    "import pandas as pd\n",
    "from glob import glob\n",
    "from tqdm import tqdm\n",
    "import numpy as np\n",
    "import wavio\n",
    "from librosa.core import to_mono\n",
    "import IPython.display as ipd\n",
    "import matplotlib.pyplot as plt\n",
    "from scipy.io import wavfile"
   ]
  },
  {
   "cell_type": "code",
   "execution_count": null,
   "id": "3c9f915b-56f4-492d-8036-798abadedd07",
   "metadata": {},
   "outputs": [],
   "source": [
    "# Borrowing from https://github.com/seth814/Audio-Classification/blob/master/clean.py"
   ]
  },
  {
   "cell_type": "code",
   "execution_count": null,
   "id": "0c8ff8a9-9411-43d5-852c-1a661f25e915",
   "metadata": {},
   "outputs": [],
   "source": [
    "audio_fpath = '/Users/ethancobb/Documents/CUNY/Machine Learning/Final Project/Code/Audio/wav_full/'\n",
    "audio_clips = os.listdir(audio_fpath)\n",
    "\n",
    "# Display full wav files available\n",
    "print(audio_clips)"
   ]
  },
  {
   "cell_type": "code",
   "execution_count": null,
   "id": "eb60b032-5d18-4a22-a794-6dc2218daaa6",
   "metadata": {},
   "outputs": [],
   "source": [
    "# duration in seconds of 1 sample\n",
    "sample_duration = 1 / sr\n",
    "print(f\"One sample lasts for {sample_duration:6f} seconds\")\n",
    "tot_samples_maisky = len(maisky)\n",
    "# duration of audio in seconds\n",
    "duration_maisky = 1 / sr * tot_samples_maisky\n",
    "print(f\"The audio for Maisky lasts for {duration_maisky:.3f} seconds\")"
   ]
  },
  {
   "cell_type": "code",
   "execution_count": null,
   "id": "5807d4d3-494f-441c-9f2f-c5047cc79787",
   "metadata": {},
   "outputs": [],
   "source": [
    "myaudio = AudioSegment.from_file(\"Audio/wav_full/maisky.wav\" , \"wav\") \n",
    "chunk_length_ms = 500 # in milliseconds\n",
    "chunks = make_chunks(myaudio, chunk_length_ms) # Make chunks of .5 sec\n",
    "\n",
    "# Export all of the individual chunks as wav files\n",
    "\n",
    "# for i, chunk in enumerate(chunks):\n",
    "#     chunk_name = \"Audio/wav_split/maisky{0}.wav\".format(i)\n",
    "# #     print(\"exporting\", chunk_name)\n",
    "# #     chunk.export(chunk_name, format=\"wav\")"
   ]
  },
  {
   "cell_type": "code",
   "execution_count": null,
   "id": "3b1ae59d-5d1e-4ac5-baf6-1b8ead1cfd8b",
   "metadata": {},
   "outputs": [],
   "source": [
    "def envelope(y, rate, threshold, divisor):\n",
    "    '''\n",
    "    This function computes the envelope of a signal over a fixed window of samples. \n",
    "    '''\n",
    "    mask = []\n",
    "    y = pd.Series(y).apply(np.abs)\n",
    "    y_mean = y.rolling(window=int(rate/divisor), # 15\n",
    "                       min_periods=1,\n",
    "                       center=True).max()\n",
    "    for mean in y_mean:\n",
    "        if mean > threshold:\n",
    "            mask.append(True)\n",
    "        else:\n",
    "            mask.append(False)\n",
    "    return mask, y_mean"
   ]
  },
  {
   "cell_type": "code",
   "execution_count": null,
   "id": "59483d0d-9f08-4803-a203-5fb5c72539cb",
   "metadata": {},
   "outputs": [],
   "source": [
    "divisors = range(1, 20, 1)\n",
    "thresholds = [1e-1, 1e-2, 1e-3, 1e-4, 1e-5, 1e-6, 1e-7]\n",
    "\n",
    "audio1, rate = read_audio(\"Audio/wav_full/rostropovich.wav\")\n",
    "\n",
    "for divisor in divisors:\n",
    "    for threshold in thresholds:\n",
    "        audio = audio1\n",
    "        mask, y_mean = envelope(audio, rate, threshold, divisor)\n",
    "        audio = audio[mask]\n",
    "        if (44100*196 < audio.shape[0]) and (audio.shape[0] < 44100*198):\n",
    "            break\n",
    "print('divisor = ', divisor)\n",
    "print('threshold = ', threshold)"
   ]
  },
  {
   "cell_type": "code",
   "execution_count": null,
   "id": "25cc00f5-8341-4bed-b399-826eb0e7e24d",
   "metadata": {},
   "outputs": [],
   "source": [
    "print(audio1.shape)\n",
    "print(audio.shape)\n",
    "audioclip = audio[196:]\n",
    "zero = np.count_nonzero(audioclip == 0)\n",
    "print((44100*196 < audio.shape[0]) and (audio.shape[0] < 44100*198))\n",
    "44100/zero"
   ]
  },
  {
   "cell_type": "code",
   "execution_count": null,
   "id": "07000c42-8cbe-4e5d-987a-27a04ff6880e",
   "metadata": {},
   "outputs": [],
   "source": [
    "ipd.Audio(audio, rate=rate)"
   ]
  },
  {
   "cell_type": "code",
   "execution_count": null,
   "id": "a7dbdcd7-bfcd-45c2-b005-0f7a53f1e2b0",
   "metadata": {},
   "outputs": [],
   "source": [
    "print(threshold, divisor)"
   ]
  },
  {
   "cell_type": "code",
   "execution_count": null,
   "id": "b88d05f5-0226-4e20-948d-b797a4c2e02f",
   "metadata": {},
   "outputs": [],
   "source": [
    "audio2, rate = read_audio(\"Audio/wav_full/wispelwey.wav\")\n",
    "mask, y_mean = envelope(audio2, rate, threshold, divisor)\n",
    "audio2 = audio2[mask]"
   ]
  },
  {
   "cell_type": "code",
   "execution_count": null,
   "id": "2e34e280-41e3-4262-8af3-202ee2441346",
   "metadata": {},
   "outputs": [],
   "source": [
    "ipd.Audio(audio2, rate=rate)"
   ]
  },
  {
   "cell_type": "code",
   "execution_count": null,
   "id": "4520b0f1-1e77-4938-88fe-65ad3ef81f8c",
   "metadata": {},
   "outputs": [],
   "source": [
    "plt.figure(figsize=(15, 10))\n",
    "\n",
    "plt.subplot(2, 1, 1)\n",
    "audio2_orig, rate = read_audio(\"Audio/wav_full/vogler.wav\")\n",
    "librosa.display.waveplot(audio2_orig[:44100], sr=rate)\n",
    "plt.title(\"Vogler Original\")\n",
    "\n",
    "plt.subplot(2, 1, 2)\n",
    "\n",
    "librosa.display.waveplot(audio2[:44100], sr=rate)\n",
    "plt.title(\"Vogler Trimmed\")\n",
    "# plt.savefig('Plots/vogler_trim_comparison.jpg', dpi=300, bbox_inches='tight')\n",
    "\n",
    "plt.show()"
   ]
  },
  {
   "cell_type": "code",
   "execution_count": null,
   "id": "dbff483b-2993-47da-95f7-7955eb88579f",
   "metadata": {},
   "outputs": [],
   "source": [
    "ipd.Audio(audio, rate=rate)"
   ]
  },
  {
   "cell_type": "code",
   "execution_count": null,
   "id": "781474c7-19ee-4d05-8cdb-a371267c7ed4",
   "metadata": {},
   "outputs": [],
   "source": [
    "np.average(audio[44100*196:44100*198])\n",
    "print(audio.shape)\n",
    "print(44100*197)"
   ]
  },
  {
   "cell_type": "code",
   "execution_count": null,
   "id": "5f01d556-4843-459f-a739-b1b6e3f266bf",
   "metadata": {},
   "outputs": [],
   "source": [
    "window = 44100/100\n",
    "duration = 1/44100\n",
    "duration*window"
   ]
  },
  {
   "cell_type": "code",
   "execution_count": null,
   "id": "0a44636e-e4b7-47c7-ae45-750a1f1d4250",
   "metadata": {},
   "outputs": [],
   "source": [
    "def check_dir(path):\n",
    "    if os.path.exists(path) is False:\n",
    "        os.mkdir(path)"
   ]
  },
  {
   "cell_type": "code",
   "execution_count": null,
   "id": "fffa6f4e-3536-4d63-89b2-e78d09d9f188",
   "metadata": {},
   "outputs": [],
   "source": [
    "def save_sample(sample, rate, target_dir, fn, ix):\n",
    "    fn = fn.split('.wav')[0]\n",
    "    dst_path = os.path.join(target_dir.split('.')[0], fn+'_{}.wav'.format(str(ix)))\n",
    "    if os.path.exists(dst_path):\n",
    "        return\n",
    "    wavfile.write(dst_path, rate, sample)"
   ]
  },
  {
   "cell_type": "code",
   "execution_count": null,
   "id": "fd1ae422-699e-45d2-917c-30fd08ca26e0",
   "metadata": {},
   "outputs": [],
   "source": [
    "dt = 1\n",
    "fn = 'bylsma.wav'\n",
    "wav, rate = read_audio('Audio/wav_full/bylsma.wav', sr)\n",
    "mask, y_mean = envelope(wav, rate, threshold, divisor)\n",
    "wav = wav[mask]\n",
    "delta_sample = int(dt*rate)"
   ]
  },
  {
   "cell_type": "code",
   "execution_count": null,
   "id": "da3a0142-cd49-4073-925c-2a6e4cf181bd",
   "metadata": {},
   "outputs": [],
   "source": [
    "trunc = wav.shape[0] % delta_sample\n",
    "for cnt, i in enumerate(np.arange(0, wav.shape[0]-trunc, delta_sample)):\n",
    "    start = int(i)\n",
    "    stop = int(i + delta_sample)\n",
    "    sample = wav[start:stop]\n",
    "    save_sample(sample, rate, DST_ROOT, fn, cnt)"
   ]
  },
  {
   "cell_type": "code",
   "execution_count": null,
   "id": "9993c159-c154-4f6e-b4d0-285b34705bcd",
   "metadata": {},
   "outputs": [],
   "source": [
    "def read_audio(path, sr=44100):\n",
    "#     obj = wavio.read(path)\n",
    "#     wav = obj.data.astype(np.float32, order='F')\n",
    "#     rate = obj.rate\n",
    "    \n",
    "    audio, rate = librosa.load(path, sr=None, mono=False)\n",
    "    audio = to_mono(audio)\n",
    "    \n",
    "    return audio, rate"
   ]
  },
  {
   "cell_type": "code",
   "execution_count": null,
   "id": "edfc1f60-1647-416d-aebc-b92e6e7e94ac",
   "metadata": {},
   "outputs": [],
   "source": [
    "# sum(mask)\n",
    "mask, y_mean = envelope(audio, rate, 1e-5)\n",
    "audio = audio[mask]"
   ]
  },
  {
   "cell_type": "code",
   "execution_count": null,
   "id": "2ada07a7-555f-4df9-8598-147127dc7ac3",
   "metadata": {},
   "outputs": [],
   "source": [
    "audio[44100*197:44100*198]"
   ]
  },
  {
   "cell_type": "code",
   "execution_count": null,
   "id": "c6479273-4fa3-407d-a1c6-de1c13eda1aa",
   "metadata": {},
   "outputs": [],
   "source": [
    "ipd.Audio(audio, rate=rate)"
   ]
  },
  {
   "cell_type": "code",
   "execution_count": null,
   "id": "539755a8-a0b3-4948-b31f-9a3fb2ce4970",
   "metadata": {},
   "outputs": [],
   "source": [
    "plt.figure(figsize=(15, 6))\n",
    "librosa.display.waveplot(audio, sr=rate)\n",
    "plt.show()"
   ]
  },
  {
   "cell_type": "code",
   "execution_count": null,
   "id": "a6943e7c-06f2-4e95-aaf2-44febdc4c1cd",
   "metadata": {},
   "outputs": [],
   "source": [
    "def split_wavs(src_root, dst_root, dt=1, threshold=.01, divisor=19, sr=44100):\n",
    "\n",
    "    wav_paths = glob('{}/**'.format(src_root), recursive=True)\n",
    "    wav_paths = [x for x in wav_paths if '.wav' in x]\n",
    "    wav_files_full = os.listdir(src_root)\n",
    "    check_dir(dst_root)\n",
    "    for fn in tqdm(wav_files_full):\n",
    "        target_dir = os.path.join(dst_root, fn)\n",
    "        src_dir = os.path.join(src_root, fn)\n",
    "        wav, rate = read_audio(src_dir, sr)\n",
    "        mask, y_mean = envelope(wav, rate, threshold, divisor)\n",
    "        wav = wav[mask]\n",
    "        delta_sample = int(dt*rate)\n",
    "\n",
    "        # step through audio and save every delta_sample\n",
    "        # discard the ending audio if it is too short\n",
    "        trunc = wav.shape[0] % delta_sample\n",
    "        for cnt, i in enumerate(np.arange(0, wav.shape[0]-trunc, delta_sample)):\n",
    "            start = int(i)\n",
    "            stop = int(i + delta_sample)\n",
    "            sample = wav[start:stop]\n",
    "            save_sample(sample, rate, dst_root, fn, cnt)"
   ]
  },
  {
   "cell_type": "code",
   "execution_count": null,
   "id": "8a67d098-79dd-44ff-a7b9-cf5c6372012c",
   "metadata": {},
   "outputs": [],
   "source": [
    "SRC_ROOT = \"Audio/wav_full/\"\n",
    "DST_ROOT = \"Audio/wav_test/\""
   ]
  },
  {
   "cell_type": "code",
   "execution_count": null,
   "id": "bdc188e3-10aa-4226-9685-393416b8f60b",
   "metadata": {},
   "outputs": [],
   "source": [
    "split_wavs(SRC_ROOT, DST_ROOT)"
   ]
  },
  {
   "cell_type": "code",
   "execution_count": null,
   "id": "0a11c6cb-6ccf-450b-9946-282c330571fa",
   "metadata": {},
   "outputs": [],
   "source": [
    "def test_threshold(src_root, fn, threshold=.01, divisor=19, sr=44100):\n",
    "    wav_paths = glob('{}/**'.format(src_root), recursive=True)\n",
    "    wav_path = [x for x in wav_paths if fn in x]\n",
    "    if len(wav_path) != 1:\n",
    "        print('audio file not found for sub-string: {}'.format(fn))\n",
    "        return\n",
    "    wav, rate = read_audio(wav_path[0], sr)\n",
    "    mask, env = envelope(wav, rate, threshold, divisor)\n",
    "    plt.style.use('ggplot')\n",
    "    plt.title('Signal Envelope, Threshold = {}'.format(str(threshold)))\n",
    "    plt.plot(wav[np.logical_not(mask)], color='r', label='remove')\n",
    "    plt.plot(wav[mask], color='c', label='keep')\n",
    "    plt.plot(env, color='m', label='envelope')\n",
    "    plt.grid(False)\n",
    "    plt.legend(loc='best')\n",
    "    plt.show()"
   ]
  },
  {
   "cell_type": "code",
   "execution_count": null,
   "id": "02e21dbc-a78c-4e99-988f-709bfe8ac89c",
   "metadata": {},
   "outputs": [],
   "source": [
    "test_threshold(SRC_ROOT, 'wispelwey')"
   ]
  },
  {
   "cell_type": "code",
   "execution_count": null,
   "id": "c22d73f8-1c18-4ac2-99d5-0a565f9181a8",
   "metadata": {},
   "outputs": [],
   "source": [
    "# count total number of samples created\n",
    "path, dirs, files = next(os.walk(DST_ROOT))\n",
    "file_count = len(files)\n",
    "print(f\"Total number of Samples: {file_count}\")"
   ]
  },
  {
   "cell_type": "code",
   "execution_count": null,
   "id": "d60e8ae3-34e6-4f44-9483-2bf5ece0011f",
   "metadata": {},
   "outputs": [],
   "source": []
  }
 ],
 "metadata": {
  "kernelspec": {
   "display_name": "Python 3 (ipykernel)",
   "language": "python",
   "name": "python3"
  },
  "language_info": {
   "codemirror_mode": {
    "name": "ipython",
    "version": 3
   },
   "file_extension": ".py",
   "mimetype": "text/x-python",
   "name": "python",
   "nbconvert_exporter": "python",
   "pygments_lexer": "ipython3",
   "version": "3.9.7"
  }
 },
 "nbformat": 4,
 "nbformat_minor": 5
}
