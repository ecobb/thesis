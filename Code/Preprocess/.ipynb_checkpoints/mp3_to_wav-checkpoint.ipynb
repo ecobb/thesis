{
 "cells": [
  {
   "cell_type": "code",
   "execution_count": 5,
   "id": "5d7d9733",
   "metadata": {},
   "outputs": [],
   "source": [
    "import os\n",
    "from pydub import AudioSegment"
   ]
  },
  {
   "cell_type": "code",
   "execution_count": 2,
   "id": "5979440d-d162-458e-9e44-8e02074b52e9",
   "metadata": {},
   "outputs": [],
   "source": [
    "class Convert:\n",
    "    \"\"\"Convert processes audio files in a directory, converting\n",
    "    from mp3 to wav. \n",
    "\n",
    "    \"\"\"\n",
    "    def __init__(self):\n",
    "        pass\n",
    "    \n",
    "    def process(self, audio_files_dir):\n",
    "        for root, _, files in os.walk(audio_files_dir):\n",
    "            for file in files:\n",
    "                file_path = os.path.join(root, file)\n",
    "                self._process_file(file_path)\n",
    "                print(f\"Processed file {file_path}\")\n",
    "        print(str(len(files)) + ' files converted.')\n",
    "\n",
    "    def _process_file(self, file_path):\n",
    "        sound = AudioSegment.from_mp3(file_path)\n",
    "        name = os.path.basename(os.path.normpath(file_path))\n",
    "        name_stripped = os.path.splitext(name)[0]\n",
    "        dst = \"Audio/wav_full/\" + name_stripped + \".wav\"\n",
    "        sound.export(dst, format=\"wav\")"
   ]
  },
  {
   "cell_type": "code",
   "execution_count": 3,
   "id": "e4116e7c-e105-4968-8c04-5ccc4d5e4583",
   "metadata": {},
   "outputs": [],
   "source": [
    "FILES_DIR = \"Audio/mp3/\""
   ]
  },
  {
   "cell_type": "code",
   "execution_count": 6,
   "id": "3202343b-dce1-4f3f-be61-e0b2f3be14a2",
   "metadata": {},
   "outputs": [
    {
     "name": "stdout",
     "output_type": "stream",
     "text": [
      "Processed file Audio/mp3/wispelwey.mp3\n",
      "Processed file Audio/mp3/casals.mp3\n",
      "Processed file Audio/mp3/kirshbaum.mp3\n",
      "Processed file Audio/mp3/rostropovich.mp3\n",
      "Processed file Audio/mp3/bylsma.mp3\n",
      "Processed file Audio/mp3/vogler.mp3\n",
      "Processed file Audio/mp3/schiff.mp3\n",
      "Processed file Audio/mp3/maisky.mp3\n",
      "Processed file Audio/mp3/carr.mp3\n",
      "Processed file Audio/mp3/ma.mp3\n",
      "Processed file Audio/mp3/queyras.mp3\n",
      "11 files converted.\n"
     ]
    }
   ],
   "source": [
    "convert = Convert()\n",
    "convert.process(FILES_DIR)"
   ]
  },
  {
   "cell_type": "code",
   "execution_count": null,
   "id": "bd4269a2-aedc-4928-8918-00dd9641feaa",
   "metadata": {},
   "outputs": [],
   "source": []
  }
 ],
 "metadata": {
  "kernelspec": {
   "display_name": "Python 3",
   "language": "python",
   "name": "python3"
  },
  "language_info": {
   "codemirror_mode": {
    "name": "ipython",
    "version": 3
   },
   "file_extension": ".py",
   "mimetype": "text/x-python",
   "name": "python",
   "nbconvert_exporter": "python",
   "pygments_lexer": "ipython3",
   "version": "3.8.8"
  }
 },
 "nbformat": 4,
 "nbformat_minor": 5
}
