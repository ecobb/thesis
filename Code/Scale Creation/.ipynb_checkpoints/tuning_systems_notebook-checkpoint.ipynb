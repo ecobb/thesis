{
 "cells": [
  {
   "cell_type": "code",
   "execution_count": 94,
   "id": "3b9f57b3-e060-4b8d-a30b-f400a062a2fd",
   "metadata": {},
   "outputs": [],
   "source": [
    "from pytuning.scales import *\n",
    "from sympy import *\n",
    "import numpy as np"
   ]
  },
  {
   "cell_type": "markdown",
   "id": "6a8fe11e-7c23-40c1-a686-8d9289aca320",
   "metadata": {},
   "source": [
    "## Scale Similarity among Different Intonation Systems\n",
    "\n",
    "Now that we have methods for obtaining the pitch names and fundamental frequencies associated with a scale in a snippet of audio, to compute a labeling, we have to come up with some measure of similarity among different intonation systems. The idea is once we have this mathematical measure, then we label the scale as the intonation system with the highest similarity. \n",
    "\n",
    "To approach this task, we need functions to create equal-temperament, Pythagorean, and Just scale templates. "
   ]
  },
  {
   "cell_type": "markdown",
   "id": "2e2aaa72-4c3b-4ee7-ad88-a949c435fe86",
   "metadata": {},
   "source": [
    "### Equal Temperament"
   ]
  },
  {
   "cell_type": "code",
   "execution_count": 85,
   "id": "c35f7094-a421-4323-9927-ee08a1ad9a96",
   "metadata": {},
   "outputs": [
    {
     "data": {
      "text/plain": [
       "[1,\n",
       " 2**(1/12),\n",
       " 2**(1/6),\n",
       " 2**(1/4),\n",
       " 2**(1/3),\n",
       " 2**(5/12),\n",
       " sqrt(2),\n",
       " 2**(7/12),\n",
       " 2**(2/3),\n",
       " 2**(3/4),\n",
       " 2**(5/6),\n",
       " 2**(11/12),\n",
       " 2]"
      ]
     },
     "execution_count": 85,
     "metadata": {},
     "output_type": "execute_result"
    }
   ],
   "source": [
    "edo_scale = create_edo_scale(12)\n",
    "edo_scale"
   ]
  },
  {
   "cell_type": "markdown",
   "id": "ec492e0c-a63b-4457-8d1c-72e603049284",
   "metadata": {},
   "source": [
    "<font color='red'> for these scale creation functions, not sure if it's worth converting the sympy rationals to floats throughout the array as I'm currently doing. "
   ]
  },
  {
   "cell_type": "code",
   "execution_count": 104,
   "id": "92e4ca52-87d6-4d3e-b279-b3c38c483227",
   "metadata": {},
   "outputs": [
    {
     "data": {
      "text/plain": [
       "[1.00000000000000,\n",
       " 1.05946309435930,\n",
       " 1.12246204830937,\n",
       " 1.18920711500272,\n",
       " 1.25992104989487,\n",
       " 1.33483985417003,\n",
       " 1.41421356237310,\n",
       " 1.49830707687668,\n",
       " 1.58740105196820,\n",
       " 1.68179283050743,\n",
       " 1.78179743628068,\n",
       " 1.88774862536339,\n",
       " 2.00000000000000]"
      ]
     },
     "execution_count": 104,
     "metadata": {},
     "output_type": "execute_result"
    }
   ],
   "source": [
    "edo_scale_float = [i.evalf() for i in edo_scale]\n",
    "edo_scale_float"
   ]
  },
  {
   "cell_type": "code",
   "execution_count": 112,
   "id": "099b723b-f369-415e-9b35-e3df662fb611",
   "metadata": {},
   "outputs": [],
   "source": [
    "def create_edo_template(ref_pitch):\n",
    "    edo_scale = create_edo_scale(12)\n",
    "    edo_scale_float = [i.evalf() for i in edo_scale]\n",
    "\n",
    "    return ref_pitch * np.array(edo_scale_float)"
   ]
  },
  {
   "cell_type": "code",
   "execution_count": 115,
   "id": "2c634ac3-751a-4f24-92dc-7a8b67b4ee1f",
   "metadata": {},
   "outputs": [
    {
     "data": {
      "text/plain": [
       "array([220.000000000000, 233.081880759045, 246.941650628062,\n",
       "       261.625565300599, 277.182630976872, 293.664767917408,\n",
       "       311.126983722081, 329.627556912870, 349.228231433004,\n",
       "       369.994422711634, 391.995435981749, 415.304697579945,\n",
       "       440.000000000000], dtype=object)"
      ]
     },
     "execution_count": 115,
     "metadata": {},
     "output_type": "execute_result"
    }
   ],
   "source": [
    "ref_pitch = 220\n",
    "create_edo_template(ref_pitch)"
   ]
  },
  {
   "cell_type": "markdown",
   "id": "c49b2e60-eb1c-4763-a3a2-17b9d9ca3e07",
   "metadata": {},
   "source": [
    "### Just"
   ]
  },
  {
   "cell_type": "markdown",
   "id": "de8b61cb-7868-4f36-b141-6110bb0b88c5",
   "metadata": {},
   "source": [
    "<font color='red'> still haven't figured out what the 'proper' just ratios are. Will need to ask someone for guidance. Looks like there isn't one right answer. For now, just going to hardcode the ratios. "
   ]
  },
  {
   "cell_type": "code",
   "execution_count": 78,
   "id": "f3cc6c39-87eb-4833-a5ac-e85f14f3fe75",
   "metadata": {},
   "outputs": [
    {
     "data": {
      "text/plain": [
       "[1, 25/24, 9/8, 6/5, 5/4, 4/3, 45/32, 3/2, 8/5, 5/3, 9/5, 15/8, 2]"
      ]
     },
     "execution_count": 78,
     "metadata": {},
     "output_type": "execute_result"
    }
   ],
   "source": [
    "import sympy as sp\n",
    "harmonic_scale = [sp.Integer(1), sp.Rational(25, 24), sp.Rational(9,8), sp.Rational(6,5), \n",
    "                  sp.Rational(5,4), sp.Rational(4, 3), sp.Rational(45, 32), sp.Rational(3,2), \n",
    "                  sp.Rational(8,5), sp.Rational(5,3), sp.Rational(9,5), sp.Rational(15,8),\n",
    "                                                                                 sp.Integer(2)]\n",
    "harmonic_scale"
   ]
  },
  {
   "cell_type": "code",
   "execution_count": 117,
   "id": "d0f64a8c-87f3-4748-967d-c86e442314fd",
   "metadata": {},
   "outputs": [],
   "source": [
    "def create_just_template(ref_pitch):\n",
    "    just_scale = [sp.Integer(1), sp.Rational(25, 24), sp.Rational(9,8), sp.Rational(6,5), \n",
    "                  sp.Rational(5,4), sp.Rational(4, 3), sp.Rational(45, 32), sp.Rational(3,2), \n",
    "                  sp.Rational(8,5), sp.Rational(5,3), sp.Rational(9,5), sp.Rational(15,8),\n",
    "                                                                                 sp.Integer(2)]\n",
    "    just_scale_float = [i.evalf() for i in just_scale]\n",
    "\n",
    "    return ref_pitch * np.array(just_scale_float)"
   ]
  },
  {
   "cell_type": "code",
   "execution_count": 118,
   "id": "a83c773b-54d9-4ff9-9c2d-3b61da3d29b8",
   "metadata": {},
   "outputs": [
    {
     "data": {
      "text/plain": [
       "array([220.000000000000, 229.166666666667, 247.500000000000,\n",
       "       264.000000000000, 275.000000000000, 293.333333333333,\n",
       "       309.375000000000, 330.000000000000, 352.000000000000,\n",
       "       366.666666666667, 396.000000000000, 412.500000000000,\n",
       "       440.000000000000], dtype=object)"
      ]
     },
     "execution_count": 118,
     "metadata": {},
     "output_type": "execute_result"
    }
   ],
   "source": [
    "create_just_template(ref_pitch)"
   ]
  },
  {
   "cell_type": "code",
   "execution_count": 59,
   "id": "bfa85768-657e-4344-ac6a-232dc113a038",
   "metadata": {},
   "outputs": [],
   "source": [
    "# i = 1\n",
    "# j = 1\n",
    "\n",
    "# scale = create_harmonic_scale(i, j)\n",
    "# target = [1, 25/24, 9/8, 6/5, 5/4, 4/3, 45/32, 3/2, 8/5, 5/3, 9/5, 15/8, 2]\n",
    "\n",
    "# # for i in range(5):\n",
    "# #     for j in range(50):\n",
    "# #         scale = create_harmonic_scale(i, j)\n",
    "# #         if scale == target and len(scale) == 13:\n",
    "# #             print(scale)\n",
    "# #             break\n",
    "\n",
    "# # # while scale != target and len(scale) < 13 and i < 100 and j < 100:\n",
    "# # #     i += 1\n",
    "# # #     j += 1\n",
    "# # #     scale = create_harmonic_scale(i, j)\n",
    "# # #     # if len(scale) > 13: \n",
    "# # #     #     break\n",
    "# print('i = ', i, 'j = ', j)\n",
    "# print(scale)\n",
    "# len(scale)"
   ]
  },
  {
   "cell_type": "markdown",
   "id": "96a7af57-9337-42a7-a619-c1cd28063f49",
   "metadata": {},
   "source": [
    "### Pythagorean"
   ]
  },
  {
   "cell_type": "code",
   "execution_count": 19,
   "id": "07d22a37-05b5-4a57-8723-beb2cf44a3b4",
   "metadata": {},
   "outputs": [
    {
     "data": {
      "text/plain": [
       "[1,\n",
       " 256/243,\n",
       " 9/8,\n",
       " 32/27,\n",
       " 81/64,\n",
       " 4/3,\n",
       " 1024/729,\n",
       " 3/2,\n",
       " 128/81,\n",
       " 27/16,\n",
       " 16/9,\n",
       " 243/128,\n",
       " 2]"
      ]
     },
     "execution_count": 19,
     "metadata": {},
     "output_type": "execute_result"
    }
   ],
   "source": [
    "scale = create_pythagorean_scale()\n",
    "scale"
   ]
  },
  {
   "cell_type": "code",
   "execution_count": 119,
   "id": "2728b8ff-361a-4f7d-a9e7-ccf979f8393c",
   "metadata": {},
   "outputs": [],
   "source": [
    "def create_pythagorean_template(ref_pitch):\n",
    "    pythagorean_scale = create_pythagorean_scale()\n",
    "    pythagorean_scale_float = [i.evalf() for i in pythagorean_scale]\n",
    "\n",
    "    return ref_pitch * np.array(pythagorean_scale_float)"
   ]
  },
  {
   "cell_type": "code",
   "execution_count": 120,
   "id": "0b69e0be-6bab-4761-a445-ee19a783634f",
   "metadata": {},
   "outputs": [
    {
     "data": {
      "text/plain": [
       "array([220.000000000000, 231.769547325103, 247.500000000000,\n",
       "       260.740740740741, 278.437500000000, 293.333333333333,\n",
       "       309.026063100137, 330.000000000000, 347.654320987654,\n",
       "       371.250000000000, 391.111111111111, 417.656250000000,\n",
       "       440.000000000000], dtype=object)"
      ]
     },
     "execution_count": 120,
     "metadata": {},
     "output_type": "execute_result"
    }
   ],
   "source": [
    "create_pythagorean_template(ref_pitch)"
   ]
  },
  {
   "cell_type": "code",
   "execution_count": 121,
   "id": "f7bfe74b-a3dd-4d0e-94ff-e47f16331a76",
   "metadata": {},
   "outputs": [],
   "source": [
    "def create_scale_template(ref_pitch, scale):\n",
    "    '''\n",
    "    Creates a template for given scale based on reference pitch. \n",
    "    Scale: 'just', 'edo', 'pythagorean'\n",
    "    '''\n",
    "    if scale == 'just':\n",
    "        return create_just_template(ref_pitch)\n",
    "    if scale == 'edo':\n",
    "        return create_edo_template(ref_pitch)\n",
    "    if scale == 'pythagorean':\n",
    "        return create_pythagorean_template(ref_pitch)\n",
    "    \n",
    "    else:\n",
    "        return 'unrecognized scale'"
   ]
  },
  {
   "cell_type": "code",
   "execution_count": 130,
   "id": "f3ba346c-caf6-4460-8059-6b61ca5fcf95",
   "metadata": {},
   "outputs": [
    {
     "name": "stdout",
     "output_type": "stream",
     "text": [
      "Just:  [220.000000000000 229.166666666667 247.500000000000 264.000000000000\n",
      " 275.000000000000 293.333333333333 309.375000000000 330.000000000000\n",
      " 352.000000000000 366.666666666667 396.000000000000 412.500000000000\n",
      " 440.000000000000]\n",
      "Equal Temperament:  [220.000000000000 233.081880759045 246.941650628062 261.625565300599\n",
      " 277.182630976872 293.664767917408 311.126983722081 329.627556912870\n",
      " 349.228231433004 369.994422711634 391.995435981749 415.304697579945\n",
      " 440.000000000000]\n",
      "Pythagorean:  [220.000000000000 231.769547325103 247.500000000000 260.740740740741\n",
      " 278.437500000000 293.333333333333 309.026063100137 330.000000000000\n",
      " 347.654320987654 371.250000000000 391.111111111111 417.656250000000\n",
      " 440.000000000000]\n"
     ]
    }
   ],
   "source": [
    "print('Just: ', create_scale_template(ref_pitch, 'just'))\n",
    "print('Equal Temperament: ', create_scale_template(ref_pitch, 'edo'))\n",
    "print('Pythagorean: ', create_scale_template(ref_pitch, 'pythagorean'))"
   ]
  },
  {
   "cell_type": "markdown",
   "id": "8da2084e-d158-4fc1-9ce6-f21505dae822",
   "metadata": {},
   "source": [
    "## Comparing Scales"
   ]
  },
  {
   "cell_type": "code",
   "execution_count": 60,
   "id": "0ad85263-6ca8-4220-b4a0-d2d6b034da7f",
   "metadata": {},
   "outputs": [
    {
     "name": "stdout",
     "output_type": "stream",
     "text": [
      "               12-TET           Pythagorean\n",
      "     Cents       Freq      Cents       Freq  Delta(Cents)\n",
      " =========  =========  =========  =========  ============\n",
      "    0.0000   220.0000     0.0000   220.0000        0.0000\n",
      "  100.0000   233.0819    90.2250   231.7695        9.7750\n",
      "  200.0000   246.9417   203.9100   247.5000       -3.9100\n",
      "  300.0000   261.6256   294.1350   260.7407        5.8650\n",
      "  400.0000   277.1826   407.8200   278.4375       -7.8200\n",
      "  500.0000   293.6648   498.0450   293.3333        1.9550\n",
      "  600.0000   311.1270   588.2700   309.0261       11.7300\n",
      "  700.0000   329.6276   701.9550   330.0000       -1.9550\n",
      "  800.0000   349.2282   792.1800   347.6543        7.8200\n",
      "  900.0000   369.9944   905.8650   371.2500       -5.8650\n",
      " 1000.0000   391.9954   996.0900   391.1111        3.9100\n",
      " 1100.0000   415.3047  1109.7750   417.6562       -9.7750\n",
      " 1200.0000   440.0000  1200.0000   440.0000        0.0000\n"
     ]
    }
   ],
   "source": [
    "from pytuning.scales import create_edo_scale, create_pythagorean_scale\n",
    "from pytuning.utilities import compare_two_scales\n",
    "scale_1 = create_edo_scale(12)\n",
    "scale_2 = create_pythagorean_scale()\n",
    "compare_two_scales(scale_1, scale_2, title=['12-TET', 'Pythagorean'])"
   ]
  },
  {
   "cell_type": "code",
   "execution_count": 70,
   "id": "5c82b88c-c02b-4fcb-81f8-43bb66971094",
   "metadata": {},
   "outputs": [
    {
     "data": {
      "text/plain": [
       "[1, 17/16, 9/8, 19/16, 5/4, 21/16, 11/8, 23/16, 3/2, 13/8, 7/4, 15/8, 2]"
      ]
     },
     "execution_count": 70,
     "metadata": {},
     "output_type": "execute_result"
    }
   ],
   "source": [
    "create_harmonic_scale(1, 23)"
   ]
  },
  {
   "cell_type": "code",
   "execution_count": 79,
   "id": "626a6308-68b4-4ac5-a2ca-4b3086e34bd3",
   "metadata": {},
   "outputs": [
    {
     "name": "stdout",
     "output_type": "stream",
     "text": [
      "               12-TET              Harmonic\n",
      "     Cents       Freq      Cents       Freq  Delta(Cents)\n",
      " =========  =========  =========  =========  ============\n",
      "    0.0000   220.0000     0.0000   220.0000        0.0000\n",
      "  100.0000   233.0819    70.6724   229.1667       29.3276\n",
      "  200.0000   246.9417   203.9100   247.5000       -3.9100\n",
      "  300.0000   261.6256   315.6413   264.0000      -15.6413\n",
      "  400.0000   277.1826   386.3137   275.0000       13.6863\n",
      "  500.0000   293.6648   498.0450   293.3333        1.9550\n",
      "  600.0000   311.1270   590.2237   309.3750        9.7763\n",
      "  700.0000   329.6276   701.9550   330.0000       -1.9550\n",
      "  800.0000   349.2282   813.6863   352.0000      -13.6863\n",
      "  900.0000   369.9944   884.3587   366.6667       15.6413\n",
      " 1000.0000   391.9954  1017.5963   396.0000      -17.5963\n",
      " 1100.0000   415.3047  1088.2687   412.5000       11.7313\n",
      " 1200.0000   440.0000  1200.0000   440.0000        0.0000\n"
     ]
    }
   ],
   "source": [
    "scale_1 = create_edo_scale(12)\n",
    "scale_2 = harmonic_scale\n",
    "compare_two_scales(scale_1, scale_2, title=['12-TET', 'Harmonic'])"
   ]
  },
  {
   "cell_type": "code",
   "execution_count": 83,
   "id": "3e2ffe78-62ee-40f0-ab16-2cc0a6b81a6d",
   "metadata": {},
   "outputs": [
    {
     "name": "stdout",
     "output_type": "stream",
     "text": [
      "             Harmonic           Pythagorean\n",
      "     Cents       Freq      Cents       Freq  Delta(Cents)\n",
      " =========  =========  =========  =========  ============\n",
      "    0.0000   220.0000     0.0000   220.0000        0.0000\n",
      "   70.6724   229.1667    90.2250   231.7695      -19.5526\n",
      "  203.9100   247.5000   203.9100   247.5000        0.0000\n",
      "  315.6413   264.0000   294.1350   260.7407       21.5063\n",
      "  386.3137   275.0000   407.8200   278.4375      -21.5063\n",
      "  498.0450   293.3333   498.0450   293.3333        0.0000\n",
      "  590.2237   309.3750   588.2700   309.0261        1.9537\n",
      "  701.9550   330.0000   701.9550   330.0000        0.0000\n",
      "  813.6863   352.0000   792.1800   347.6543       21.5063\n",
      "  884.3587   366.6667   905.8650   371.2500      -21.5063\n",
      " 1017.5963   396.0000   996.0900   391.1111       21.5063\n",
      " 1088.2687   412.5000  1109.7750   417.6562      -21.5063\n",
      " 1200.0000   440.0000  1200.0000   440.0000        0.0000\n"
     ]
    }
   ],
   "source": [
    "scale_1 = harmonic_scale\n",
    "scale_2 = create_pythagorean_scale()\n",
    "\n",
    "compare_two_scales(scale_1, scale_2, title=['Harmonic', 'Pythagorean'])"
   ]
  },
  {
   "cell_type": "code",
   "execution_count": null,
   "id": "0632117b-d067-4c02-8948-0259bfa189c2",
   "metadata": {},
   "outputs": [],
   "source": []
  }
 ],
 "metadata": {
  "kernelspec": {
   "display_name": "Python 3 (ipykernel)",
   "language": "python",
   "name": "python3"
  },
  "language_info": {
   "codemirror_mode": {
    "name": "ipython",
    "version": 3
   },
   "file_extension": ".py",
   "mimetype": "text/x-python",
   "name": "python",
   "nbconvert_exporter": "python",
   "pygments_lexer": "ipython3",
   "version": "3.9.7"
  }
 },
 "nbformat": 4,
 "nbformat_minor": 5
}
