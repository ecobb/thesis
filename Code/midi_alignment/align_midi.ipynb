{
 "cells": [
  {
   "cell_type": "code",
   "execution_count": null,
   "id": "18ea44fb",
   "metadata": {},
   "outputs": [],
   "source": [
    "import numpy as np\n",
    "import matplotlib.pyplot as plt\n",
    "import IPython.display as ipd\n",
    "from ipywidgets import interact\n",
    "import sys\n",
    "sys.path.append(\"..\")\n",
    "import fmplib as fmp\n",
    "\n",
    "%matplotlib inline\n",
    "plt.rcParams['figure.figsize'] = (12, 2)\n",
    "plt.rcParams['image.interpolation'] = 'nearest'\n",
    "fmp.documentation_button()"
   ]
  },
  {
   "cell_type": "code",
   "execution_count": null,
   "id": "64835376",
   "metadata": {},
   "outputs": [],
   "source": [
    "fmp.plot_and_listen(\"audio/ma.wav\")"
   ]
  },
  {
   "cell_type": "code",
   "execution_count": null,
   "id": "8e9e38f8",
   "metadata": {},
   "outputs": [],
   "source": [
    "fmp.plot_and_listen(\"audio/suite3_prelude_midi.wav\")"
   ]
  },
  {
   "cell_type": "code",
   "execution_count": null,
   "id": "31b44e13",
   "metadata": {},
   "outputs": [],
   "source": [
    "snd1 = fmp.load_wav(\"audio/ma.wav\")\n",
    "snd2 = fmp.load_wav(\"audio/suite3_prelude_midi.wav\")\n",
    "\n",
    "fs = 44100\n",
    "ipd.display(ipd.Audio(snd1, rate = fs), ipd.Audio(snd2, rate = fs))"
   ]
  },
  {
   "cell_type": "code",
   "execution_count": null,
   "id": "d0954b3a",
   "metadata": {},
   "outputs": [],
   "source": [
    "fft_len = 4096\n",
    "hop_size = fft_len // 4\n",
    "\n",
    "chroma_x = fmp.make_chromagram(snd1, fs, fft_len, hop_size, normalize=False)\n",
    "chroma_y = fmp.make_chromagram(snd2, fs, fft_len, hop_size, normalize=False)\n",
    "\n",
    "plt.figure()\n",
    "fmp.plot_two_chromas(chroma_x, chroma_y)"
   ]
  },
  {
   "cell_type": "code",
   "execution_count": null,
   "id": "b263a589",
   "metadata": {},
   "outputs": [],
   "source": [
    "cost = fmp.make_cost_matrix(chroma_x, chroma_y)\n",
    "path = fmp.dtw(cost, .8)[1]\n",
    "\n",
    "plt.figure()\n",
    "plt.imshow(cost, origin='lower', cmap='gray');\n",
    "plt.xlabel('Ma Raw Audio')\n",
    "plt.ylabel('MIDI')\n",
    "plt.colorbar()\n",
    "plt.plot(path.T[1], path.T[0], '-r', linewidth=3)\n",
    "plt.show()"
   ]
  },
  {
   "cell_type": "code",
   "execution_count": null,
   "id": "f98fd8e3",
   "metadata": {},
   "outputs": [],
   "source": []
  }
 ],
 "metadata": {
  "kernelspec": {
   "display_name": "Python 3 (ipykernel)",
   "language": "python",
   "name": "python3"
  },
  "language_info": {
   "codemirror_mode": {
    "name": "ipython",
    "version": 3
   },
   "file_extension": ".py",
   "mimetype": "text/x-python",
   "name": "python",
   "nbconvert_exporter": "python",
   "pygments_lexer": "ipython3",
   "version": "3.9.7"
  }
 },
 "nbformat": 4,
 "nbformat_minor": 5
}
