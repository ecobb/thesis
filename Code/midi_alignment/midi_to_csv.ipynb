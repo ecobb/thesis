{
 "cells": [
  {
   "cell_type": "code",
   "execution_count": 1,
   "id": "2e814ea3",
   "metadata": {},
   "outputs": [
    {
     "name": "stdout",
     "output_type": "stream",
     "text": [
      "Collecting py_midicsv\n",
      "  Downloading py_midicsv-2.0.0-py3-none-any.whl (16 kB)\n",
      "Collecting click<8.0.0,>=7.1.2\n",
      "  Downloading click-7.1.2-py2.py3-none-any.whl (82 kB)\n",
      "\u001b[K     |████████████████████████████████| 82 kB 1.7 MB/s eta 0:00:011\n",
      "\u001b[?25hInstalling collected packages: click, py-midicsv\n",
      "Successfully installed click-7.1.2 py-midicsv-2.0.0\n"
     ]
    }
   ],
   "source": [
    "!pip install py_midicsv"
   ]
  },
  {
   "cell_type": "code",
   "execution_count": 3,
   "id": "539a52df",
   "metadata": {},
   "outputs": [],
   "source": [
    "import py_midicsv as pm\n",
    "\n",
    "# Load the MIDI file and parse it into CSV format\n",
    "csv_string = pm.midi_to_csv(\"Audio/midi/suite_3/cs3-1pre.mid\")\n",
    "\n",
    "with open(\"Audio/midi/suite_3/example_converted.csv\", \"w\") as f:\n",
    "    f.writelines(csv_string)\n",
    "\n",
    "# Parse the CSV output of the previous command back into a MIDI file\n",
    "midi_object = pm.csv_to_midi(csv_string)\n",
    "\n",
    "# Save the parsed MIDI file to disk\n",
    "with open(\"Audio/midi/suite_3/example_converted.mid\", \"wb\") as output_file:\n",
    "    midi_writer = pm.FileWriter(output_file)\n",
    "    midi_writer.write(midi_object)"
   ]
  },
  {
   "cell_type": "code",
   "execution_count": null,
   "id": "6a9c2c5c",
   "metadata": {},
   "outputs": [],
   "source": []
  }
 ],
 "metadata": {
  "kernelspec": {
   "display_name": "Python 3 (ipykernel)",
   "language": "python",
   "name": "python3"
  },
  "language_info": {
   "codemirror_mode": {
    "name": "ipython",
    "version": 3
   },
   "file_extension": ".py",
   "mimetype": "text/x-python",
   "name": "python",
   "nbconvert_exporter": "python",
   "pygments_lexer": "ipython3",
   "version": "3.9.6"
  }
 },
 "nbformat": 4,
 "nbformat_minor": 5
}
