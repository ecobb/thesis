{
 "cells": [
  {
   "cell_type": "code",
   "execution_count": null,
   "metadata": {},
   "outputs": [],
   "source": [
    "import matplotlib.pyplot as plt\n",
    "import numpy as np\n",
    "import librosa\n",
    "import librosa.display\n",
    "import IPython.display as ipd"
   ]
  },
  {
   "cell_type": "markdown",
   "metadata": {},
   "source": [
    "## Loading Audio Files"
   ]
  },
  {
   "cell_type": "code",
   "execution_count": null,
   "metadata": {},
   "outputs": [],
   "source": [
    "debussy_file = \"audio/debussy.wav\"\n",
    "redhot_file = \"audio/redhot.wav\"\n",
    "duke_file = \"audio/duke.wav\""
   ]
  },
  {
   "cell_type": "code",
   "execution_count": null,
   "metadata": {},
   "outputs": [],
   "source": [
    "ipd.Audio(debussy_file)"
   ]
  },
  {
   "cell_type": "code",
   "execution_count": null,
   "metadata": {},
   "outputs": [],
   "source": [
    "ipd.Audio(redhot_file)"
   ]
  },
  {
   "cell_type": "code",
   "execution_count": null,
   "metadata": {},
   "outputs": [],
   "source": [
    "ipd.Audio(duke_file)"
   ]
  },
  {
   "cell_type": "code",
   "execution_count": null,
   "metadata": {},
   "outputs": [],
   "source": [
    "# load audio files with librosa\n",
    "debussy, sr = librosa.load(debussy_file)\n",
    "redhot, _ = librosa.load(redhot_file)\n",
    "duke, _ = librosa.load(duke_file)"
   ]
  },
  {
   "cell_type": "markdown",
   "metadata": {},
   "source": [
    "## Root-mean-squared energy with Librosa"
   ]
  },
  {
   "cell_type": "code",
   "execution_count": null,
   "metadata": {},
   "outputs": [],
   "source": [
    "FRAME_SIZE = 1024\n",
    "HOP_LENGTH = 512"
   ]
  },
  {
   "cell_type": "code",
   "execution_count": null,
   "metadata": {},
   "outputs": [],
   "source": [
    "rms_debussy = librosa.feature.rms(debussy, frame_length=FRAME_SIZE, hop_length=HOP_LENGTH)[0]\n",
    "rms_redhot = librosa.feature.rms(redhot, frame_length=FRAME_SIZE, hop_length=HOP_LENGTH)[0]\n",
    "rms_duke = librosa.feature.rms(duke, frame_length=FRAME_SIZE, hop_length=HOP_LENGTH)[0]"
   ]
  },
  {
   "cell_type": "markdown",
   "metadata": {},
   "source": [
    "## Visualise RMSE + waveform"
   ]
  },
  {
   "cell_type": "code",
   "execution_count": null,
   "metadata": {},
   "outputs": [],
   "source": [
    "frames = range(len(rms_debussy))\n",
    "t = librosa.frames_to_time(frames, hop_length=HOP_LENGTH)"
   ]
  },
  {
   "cell_type": "code",
   "execution_count": null,
   "metadata": {},
   "outputs": [],
   "source": [
    "# rms energy is graphed in red\n",
    "\n",
    "plt.figure(figsize=(15, 17))\n",
    "\n",
    "ax = plt.subplot(3, 1, 1)\n",
    "librosa.display.waveplot(debussy, alpha=0.5)\n",
    "plt.plot(t, rms_debussy, color=\"r\")\n",
    "plt.ylim((-1, 1))\n",
    "plt.title(\"Debusy\")\n",
    "\n",
    "plt.subplot(3, 1, 2)\n",
    "librosa.display.waveplot(redhot, alpha=0.5)\n",
    "plt.plot(t, rms_redhot, color=\"r\")\n",
    "plt.ylim((-1, 1))\n",
    "plt.title(\"RHCP\")\n",
    "\n",
    "plt.subplot(3, 1, 3)\n",
    "librosa.display.waveplot(duke, alpha=0.5)\n",
    "plt.plot(t, rms_duke, color=\"r\")\n",
    "plt.ylim((-1, 1))\n",
    "plt.title(\"Duke Ellington\")\n",
    "\n",
    "plt.show()"
   ]
  },
  {
   "cell_type": "markdown",
   "metadata": {},
   "source": [
    "## RMSE from scratch"
   ]
  },
  {
   "cell_type": "code",
   "execution_count": null,
   "metadata": {},
   "outputs": [],
   "source": [
    "def rmse(signal, frame_size, hop_length):\n",
    "    rmse = []\n",
    "    \n",
    "    # calculate rmse for each frame\n",
    "    for i in range(0, len(signal), hop_length): \n",
    "        rmse_current_frame = np.sqrt(sum(signal[i:i+frame_size]**2) / frame_size)\n",
    "        rmse.append(rmse_current_frame)\n",
    "    return np.array(rmse)    "
   ]
  },
  {
   "cell_type": "code",
   "execution_count": null,
   "metadata": {},
   "outputs": [],
   "source": [
    "rms_debussy1 = rmse(debussy, FRAME_SIZE, HOP_LENGTH)\n",
    "rms_redhot1 = rmse(redhot, FRAME_SIZE, HOP_LENGTH)\n",
    "rms_duke1 = rmse(duke, FRAME_SIZE, HOP_LENGTH)"
   ]
  },
  {
   "cell_type": "code",
   "execution_count": null,
   "metadata": {},
   "outputs": [],
   "source": [
    "plt.figure(figsize=(15, 17))\n",
    "\n",
    "ax = plt.subplot(3, 1, 1)\n",
    "librosa.display.waveplot(debussy, alpha=0.5)\n",
    "plt.plot(t, rms_debussy, color=\"r\")\n",
    "plt.plot(t, rms_debussy1, color=\"y\")\n",
    "plt.ylim((-1, 1))\n",
    "plt.title(\"Debusy\")\n",
    "\n",
    "plt.subplot(3, 1, 2)\n",
    "librosa.display.waveplot(redhot, alpha=0.5)\n",
    "plt.plot(t, rms_redhot, color=\"r\")\n",
    "plt.plot(t, rms_redhot1, color=\"y\")\n",
    "plt.ylim((-1, 1))\n",
    "plt.title(\"RHCP\")\n",
    "\n",
    "plt.subplot(3, 1, 3)\n",
    "librosa.display.waveplot(duke, alpha=0.5)\n",
    "plt.plot(t, rms_duke, color=\"r\")\n",
    "plt.plot(t, rms_duke1, color=\"y\")\n",
    "plt.ylim((-1, 1))\n",
    "plt.title(\"Duke Ellington\")\n",
    "\n",
    "plt.show()"
   ]
  },
  {
   "cell_type": "markdown",
   "metadata": {},
   "source": [
    "## Zero-crossing rate with Librosa"
   ]
  },
  {
   "cell_type": "code",
   "execution_count": null,
   "metadata": {},
   "outputs": [],
   "source": [
    "zcr_debussy = librosa.feature.zero_crossing_rate(debussy, frame_length=FRAME_SIZE, hop_length=HOP_LENGTH)[0]\n",
    "zcr_redhot = librosa.feature.zero_crossing_rate(redhot, frame_length=FRAME_SIZE, hop_length=HOP_LENGTH)[0]\n",
    "zcr_duke = librosa.feature.zero_crossing_rate(duke, frame_length=FRAME_SIZE, hop_length=HOP_LENGTH)[0]"
   ]
  },
  {
   "cell_type": "code",
   "execution_count": null,
   "metadata": {},
   "outputs": [],
   "source": [
    "zcr_debussy.size"
   ]
  },
  {
   "cell_type": "markdown",
   "metadata": {},
   "source": [
    "## Visualise zero-crossing rate with Librosa"
   ]
  },
  {
   "cell_type": "code",
   "execution_count": null,
   "metadata": {},
   "outputs": [],
   "source": [
    "plt.figure(figsize=(15, 10))\n",
    "\n",
    "plt.plot(t, zcr_debussy, color=\"y\")\n",
    "plt.plot(t, zcr_redhot, color=\"r\")\n",
    "plt.plot(t, zcr_duke, color=\"b\")\n",
    "plt.ylim(0, 1)\n",
    "plt.show()"
   ]
  },
  {
   "cell_type": "markdown",
   "metadata": {},
   "source": [
    "## ZCR: Voice vs Noise"
   ]
  },
  {
   "cell_type": "code",
   "execution_count": null,
   "metadata": {},
   "outputs": [],
   "source": [
    "voice_file = \"audio/voice.wav\"\n",
    "noise_file = \"audio/noise.wav\""
   ]
  },
  {
   "cell_type": "code",
   "execution_count": null,
   "metadata": {},
   "outputs": [],
   "source": [
    "ipd.Audio(voice_file)"
   ]
  },
  {
   "cell_type": "code",
   "execution_count": null,
   "metadata": {},
   "outputs": [],
   "source": [
    "ipd.Audio(noise_file)"
   ]
  },
  {
   "cell_type": "code",
   "execution_count": null,
   "metadata": {},
   "outputs": [],
   "source": [
    "# load audio files\n",
    "voice, _ = librosa.load(voice_file, duration=15)\n",
    "noise, _ = librosa.load(noise_file, duration=15)"
   ]
  },
  {
   "cell_type": "code",
   "execution_count": null,
   "metadata": {},
   "outputs": [],
   "source": [
    "# get ZCR\n",
    "zcr_voice = librosa.feature.zero_crossing_rate(voice, frame_length=FRAME_SIZE, hop_length=HOP_LENGTH)[0]\n",
    "zcr_noise = librosa.feature.zero_crossing_rate(noise, frame_length=FRAME_SIZE, hop_length=HOP_LENGTH)[0]"
   ]
  },
  {
   "cell_type": "code",
   "execution_count": null,
   "metadata": {},
   "outputs": [],
   "source": [
    "frames = range(len(zcr_voice))\n",
    "t = librosa.frames_to_time(frames, hop_length=HOP_LENGTH)"
   ]
  },
  {
   "cell_type": "code",
   "execution_count": null,
   "metadata": {},
   "outputs": [],
   "source": [
    "plt.figure(figsize=(15, 10))\n",
    "\n",
    "plt.plot(t, zcr_voice, color=\"y\")\n",
    "plt.plot(t, zcr_noise, color=\"r\")\n",
    "plt.ylim(0, 1)\n",
    "plt.show()"
   ]
  }
 ],
 "metadata": {
  "kernelspec": {
   "display_name": "Python 3 (ipykernel)",
   "language": "python",
   "name": "python3"
  },
  "language_info": {
   "codemirror_mode": {
    "name": "ipython",
    "version": 3
   },
   "file_extension": ".py",
   "mimetype": "text/x-python",
   "name": "python",
   "nbconvert_exporter": "python",
   "pygments_lexer": "ipython3",
   "version": "3.9.7"
  }
 },
 "nbformat": 4,
 "nbformat_minor": 4
}
