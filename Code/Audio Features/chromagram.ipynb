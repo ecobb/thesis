{
 "cells": [
  {
   "cell_type": "code",
   "execution_count": null,
   "id": "859d510b",
   "metadata": {},
   "outputs": [],
   "source": [
    "import librosa, librosa.display\n",
    "import matplotlib.pyplot as plt"
   ]
  },
  {
   "cell_type": "code",
   "execution_count": null,
   "id": "947a5581",
   "metadata": {},
   "outputs": [],
   "source": [
    "maisky_file = \"Audio/maisky.wav\"\n",
    "bylsma_file = \"Audio/bylsma.wav\""
   ]
  },
  {
   "cell_type": "code",
   "execution_count": null,
   "id": "3e7433fe",
   "metadata": {},
   "outputs": [],
   "source": [
    "# load sounds\n",
    "maisky, sr = librosa.load(maisky_file)\n",
    "bylsma, _ = librosa.load(bylsma_file)"
   ]
  },
  {
   "cell_type": "code",
   "execution_count": null,
   "id": "a3d03d81",
   "metadata": {},
   "outputs": [],
   "source": [
    "FRAME_SIZE = 1024\n",
    "HOP_LENGTH = 512"
   ]
  },
  {
   "cell_type": "code",
   "execution_count": null,
   "id": "2732e529",
   "metadata": {},
   "outputs": [],
   "source": [
    "maisky.shape"
   ]
  },
  {
   "cell_type": "code",
   "execution_count": null,
   "id": "37840218",
   "metadata": {},
   "outputs": [],
   "source": [
    "type(maisky)"
   ]
  },
  {
   "cell_type": "code",
   "execution_count": null,
   "id": "abf8aa6a",
   "metadata": {},
   "outputs": [],
   "source": [
    "d = 1/sr\n",
    "88200*d\n",
    "maisky_scale = maisky[:88200]"
   ]
  },
  {
   "cell_type": "code",
   "execution_count": null,
   "id": "cad68490",
   "metadata": {},
   "outputs": [],
   "source": [
    "chromagram = librosa.feature.chroma_cqt(maisky_scale, sr=sr, hop_length=HOP_LENGTH)\n",
    "plt.figure(figsize=(15, 5))\n",
    "librosa.display.specshow(chromagram, x_axis='time', y_axis='chroma', hop_length=HOP_LENGTH, cmap='coolwarm')"
   ]
  },
  {
   "cell_type": "code",
   "execution_count": null,
   "id": "657ff0a5",
   "metadata": {},
   "outputs": [],
   "source": []
  }
 ],
 "metadata": {
  "kernelspec": {
   "display_name": "Python 3 (ipykernel)",
   "language": "python",
   "name": "python3"
  },
  "language_info": {
   "codemirror_mode": {
    "name": "ipython",
    "version": 3
   },
   "file_extension": ".py",
   "mimetype": "text/x-python",
   "name": "python",
   "nbconvert_exporter": "python",
   "pygments_lexer": "ipython3",
   "version": "3.9.7"
  }
 },
 "nbformat": 4,
 "nbformat_minor": 5
}
