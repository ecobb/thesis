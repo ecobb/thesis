{
 "cells": [
  {
   "cell_type": "code",
   "execution_count": null,
   "id": "5971339d",
   "metadata": {},
   "outputs": [],
   "source": [
    "import math, cmath\n",
    "import os\n",
    "import matplotlib.pyplot as plt\n",
    "import scipy as sp\n",
    "import numpy as np\n",
    "import librosa, librosa.display\n",
    "import IPython.display as ipd\n",
    "import numpy as np"
   ]
  },
  {
   "cell_type": "markdown",
   "id": "4a988c9b",
   "metadata": {},
   "source": [
    "# Intensity and Timbre"
   ]
  },
  {
   "cell_type": "code",
   "execution_count": null,
   "id": "5344315d",
   "metadata": {},
   "outputs": [],
   "source": [
    "maisky_file = \"Audio/wav_full/maisky.wav\"\n",
    "bylsma_file = \"Audio/wav_full/bylsma.wav\""
   ]
  },
  {
   "cell_type": "code",
   "execution_count": null,
   "id": "4fe0275e",
   "metadata": {},
   "outputs": [],
   "source": [
    "# load sounds\n",
    "maisky, sr = librosa.load(maisky_file)\n",
    "bylsma, _ = librosa.load(bylsma_file)"
   ]
  },
  {
   "cell_type": "code",
   "execution_count": null,
   "id": "a3acaa2e",
   "metadata": {},
   "outputs": [],
   "source": [
    "# We can listen to the audio clips if we want to\n",
    "# ipd.Audio(maisky_file) "
   ]
  },
  {
   "cell_type": "code",
   "execution_count": null,
   "id": "6698f0c4",
   "metadata": {},
   "outputs": [],
   "source": [
    "# ipd.Audio(bylsma_file) "
   ]
  },
  {
   "cell_type": "code",
   "execution_count": null,
   "id": "1cfcac44",
   "metadata": {},
   "outputs": [],
   "source": [
    "def plot_spectrogram(signal, name):\n",
    "    \"\"\"Compute power spectrogram with Short-Time Fourier Transform and plot result.\"\"\"\n",
    "    spectrogram = librosa.amplitude_to_db(librosa.stft(signal))\n",
    "    plt.figure(figsize=(20, 15))\n",
    "    librosa.display.specshow(spectrogram, y_axis=\"log\")\n",
    "    plt.colorbar(format=\"%+2.0f dB\")\n",
    "    plt.title(f\"Log-frequency power spectrogram for {name}\")\n",
    "    plt.xlabel(\"Time (s)\")\n",
    "    # Uncomment this line if you want to save the plot\n",
    "#     plt.savefig('Plots/bylsma_log_power_spectogram.jpg', dpi=300, bbox_inches='tight')\n",
    "    plt.show()"
   ]
  },
  {
   "cell_type": "code",
   "execution_count": null,
   "id": "333c9538",
   "metadata": {},
   "outputs": [],
   "source": [
    "# plot_spectrogram(maisky, \"Maisky\")"
   ]
  },
  {
   "cell_type": "code",
   "execution_count": null,
   "id": "904f666a",
   "metadata": {},
   "outputs": [],
   "source": [
    "# plot_spectrogram(bylsma, \"Bylsma\")"
   ]
  },
  {
   "cell_type": "code",
   "execution_count": null,
   "id": "229bf14a",
   "metadata": {},
   "outputs": [],
   "source": [
    "X_maisky = np.fft.fft(maisky)\n",
    "X_bylsma = np.fft.fft(bylsma)"
   ]
  },
  {
   "cell_type": "code",
   "execution_count": null,
   "id": "f311a39a",
   "metadata": {},
   "outputs": [],
   "source": [
    "X_maisky_mag = np.absolute(X_maisky)\n",
    "X_bylsma_mag = np.absolute(X_bylsma)\n",
    "\n",
    "f_maisky = np.linspace(0, _, len(X_maisky_mag))\n",
    "f_bylsma = np.linspace(0, _, len(X_bylsma_mag))"
   ]
  },
  {
   "cell_type": "code",
   "execution_count": null,
   "id": "41e76187",
   "metadata": {},
   "outputs": [],
   "source": [
    "plt.figure(figsize=(18, 10))\n",
    "plt.plot(f_maisky, X_maisky_mag) # magnitude spectrum\n",
    "plt.xlabel('Frequency (Hz)')\n",
    "plt.ylabel('Magnitude')\n",
    "plt.title('Frequency Magnitude Spectrum for Maisky')\n",
    "# plt.savefig('Plots/maisky_freq_mag_spectrum.jpg', dpi=300, bbox_inches='tight')\n",
    "plt.show()"
   ]
  },
  {
   "cell_type": "code",
   "execution_count": null,
   "id": "4a9828b4",
   "metadata": {},
   "outputs": [],
   "source": [
    "plt.figure(figsize=(18, 10))\n",
    "plt.plot(f_bylsma, X_bylsma_mag) # magnitude spectrum\n",
    "plt.xlabel('Frequency (Hz)')\n",
    "plt.ylabel('Magnitude')\n",
    "plt.title('Frequency Magnitude Spectrum for Bylsma')\n",
    "# plt.savefig('Plots/maisky_freq_mag_spectrum.jpg', dpi=300, bbox_inches='tight')\n",
    "plt.show()"
   ]
  },
  {
   "cell_type": "code",
   "execution_count": null,
   "id": "5c07b3ee",
   "metadata": {},
   "outputs": [],
   "source": [
    "len(maisky)"
   ]
  },
  {
   "cell_type": "code",
   "execution_count": null,
   "id": "00650c2c",
   "metadata": {},
   "outputs": [],
   "source": [
    "len(bylsma)"
   ]
  },
  {
   "cell_type": "markdown",
   "id": "eaa3dc4f",
   "metadata": {},
   "source": [
    "# Amplitude Envelope"
   ]
  },
  {
   "cell_type": "markdown",
   "id": "29ba6dc0",
   "metadata": {},
   "source": [
    "## Basic information regarding audio files"
   ]
  },
  {
   "cell_type": "code",
   "execution_count": null,
   "id": "5a6aef7c",
   "metadata": {},
   "outputs": [],
   "source": [
    "maisky.shape"
   ]
  },
  {
   "cell_type": "code",
   "execution_count": null,
   "id": "5e65e467",
   "metadata": {},
   "outputs": [],
   "source": [
    "bylsma.shape"
   ]
  },
  {
   "cell_type": "code",
   "execution_count": null,
   "id": "7ed2b619",
   "metadata": {},
   "outputs": [],
   "source": [
    "# duration in seconds of 1 sample\n",
    "sample_duration = 1 / sr\n",
    "print(f\"One sample lasts for {sample_duration:6f} seconds\")"
   ]
  },
  {
   "cell_type": "code",
   "execution_count": null,
   "id": "b011271d",
   "metadata": {},
   "outputs": [],
   "source": [
    "# total number of samples in audio files\n",
    "tot_samples_maisky = len(maisky)\n",
    "tot_samples_bylsma = len(bylsma)\n",
    "\n",
    "print(f\"Total samples for Maisky: {tot_samples_maisky:,} samples\")\n",
    "print(f\"Total samples for Bylsma: {tot_samples_bylsma:,} samples\")"
   ]
  },
  {
   "cell_type": "code",
   "execution_count": null,
   "id": "b5720d1c",
   "metadata": {},
   "outputs": [],
   "source": [
    "# duration of audio in seconds\n",
    "duration_maisky = 1 / sr * tot_samples_maisky\n",
    "duration_bylsma = 1 / sr * tot_samples_bylsma\n",
    "\n",
    "print(f\"The audio for Maisky lasts for {duration_maisky:.3f} seconds\")\n",
    "print(f\"The audio for Bylsma lasts for {duration_bylsma:.3f} seconds\")"
   ]
  },
  {
   "cell_type": "markdown",
   "id": "bb3eac06",
   "metadata": {},
   "source": [
    "## Visualising Audio Signals in the Time Domain \n"
   ]
  },
  {
   "cell_type": "code",
   "execution_count": null,
   "id": "a63ba149",
   "metadata": {},
   "outputs": [],
   "source": [
    "plt.figure(figsize=(15, 17))\n",
    "\n",
    "plt.subplot(2, 1, 1)\n",
    "librosa.display.waveplot(maisky, alpha=0.5)\n",
    "plt.ylim((-1, 1))\n",
    "plt.title(\"Maisky\")\n",
    "plt.savefig('Plots/maisky_time_domain.jpg', dpi=300, bbox_inches='tight')\n",
    "\n",
    "\n",
    "plt.subplot(2, 1, 2)\n",
    "librosa.display.waveplot(bylsma, alpha=0.5)\n",
    "plt.ylim((-1, 1))\n",
    "plt.title(\"Bylsma\")\n",
    "\n",
    "\n",
    "plt.show()"
   ]
  },
  {
   "cell_type": "markdown",
   "id": "2aa9d2c9",
   "metadata": {},
   "source": [
    "## Calculating Amplitude Envelope"
   ]
  },
  {
   "cell_type": "code",
   "execution_count": null,
   "id": "6e46d677",
   "metadata": {},
   "outputs": [],
   "source": [
    "FRAME_SIZE = 1024\n",
    "HOP_LENGTH = 512"
   ]
  },
  {
   "cell_type": "code",
   "execution_count": null,
   "id": "ee978655",
   "metadata": {},
   "outputs": [],
   "source": [
    "def amplitude_envelope(signal, frame_size, hop_length):\n",
    "    \"\"\"Calculate the amplitude envelope of a signal with a given frame size nad hop length.\"\"\"\n",
    "    amplitude_envelope = []\n",
    "    \n",
    "    # calculate amplitude envelope for each frame\n",
    "    for i in range(0, len(signal), hop_length): \n",
    "        amplitude_envelope_current_frame = max(signal[i:i+frame_size]) \n",
    "        amplitude_envelope.append(amplitude_envelope_current_frame)\n",
    "    \n",
    "    return np.array(amplitude_envelope)    "
   ]
  },
  {
   "cell_type": "code",
   "execution_count": null,
   "id": "00c9a4ee",
   "metadata": {},
   "outputs": [],
   "source": [
    "def fancy_amplitude_envelope(signal, frame_size, hop_length):\n",
    "    \"\"\"Fancier Python code to calculate the amplitude envelope of a signal with a given frame size.\"\"\"\n",
    "    return np.array([max(signal[i:i+frame_size]) for i in range(0, len(signal), hop_length)])"
   ]
  },
  {
   "cell_type": "code",
   "execution_count": null,
   "id": "6e22e659",
   "metadata": {},
   "outputs": [],
   "source": [
    "# number of frames in amplitude envelope\n",
    "ae_maisky = amplitude_envelope(maisky, FRAME_SIZE, HOP_LENGTH)\n",
    "ae_bylsma = amplitude_envelope(bylsma, FRAME_SIZE, HOP_LENGTH)\n",
    "\n",
    "print(f\"Number of frames in amplitude envelope for Maisky: {len(ae_maisky)}\")\n",
    "print(f\"Number of frames in amplitude envelope for Bylsma: {len(ae_bylsma)}\")"
   ]
  },
  {
   "cell_type": "markdown",
   "id": "5cc39b02",
   "metadata": {},
   "source": [
    "## Visualising amplitude envelope"
   ]
  },
  {
   "cell_type": "code",
   "execution_count": null,
   "id": "364070d7",
   "metadata": {},
   "outputs": [],
   "source": [
    "frames_maisky = range(len(ae_maisky))\n",
    "frames_bylsma = range(len(ae_bylsma))\n",
    "\n",
    "t_maisky = librosa.frames_to_time(frames_maisky, hop_length=HOP_LENGTH)\n",
    "t_bylsma = librosa.frames_to_time(frames_bylsma, hop_length=HOP_LENGTH)"
   ]
  },
  {
   "cell_type": "code",
   "execution_count": null,
   "id": "fc65facf",
   "metadata": {},
   "outputs": [],
   "source": [
    "# amplitude envelope graphed in red\n",
    "\n",
    "plt.figure(figsize=(15, 17))\n",
    "\n",
    "ax = plt.subplot(2, 1, 1)\n",
    "librosa.display.waveplot(maisky, alpha=0.5)\n",
    "plt.plot(t_maisky, ae_maisky, color=\"r\")\n",
    "plt.ylim((-1, 1))\n",
    "plt.title(\"Amplitude Envelope for Maisky\")\n",
    "# plt.savefig('Plots/maisky_amplitude_envelope.jpg', dpi=300, bbox_inches='tight')\n",
    "\n",
    "\n",
    "plt.subplot(2, 1, 2)\n",
    "librosa.display.waveplot(bylsma, alpha=0.5)\n",
    "plt.plot(t_bylsma, ae_bylsma, color=\"r\")\n",
    "plt.ylim((-1, 1))\n",
    "plt.title(\"Amplitude Envelope for Bylsma\")\n",
    "\n",
    "\n",
    "plt.show()"
   ]
  },
  {
   "cell_type": "markdown",
   "id": "e2a6034b",
   "metadata": {},
   "source": [
    "# RMS Energy and Zero-Crossing Rate"
   ]
  },
  {
   "cell_type": "markdown",
   "id": "49067d30",
   "metadata": {},
   "source": [
    "## Root-mean-squared energy with Librosa"
   ]
  },
  {
   "cell_type": "code",
   "execution_count": null,
   "id": "9870ebc8",
   "metadata": {},
   "outputs": [],
   "source": [
    "rms_maisky = librosa.feature.rms(maisky, frame_length=FRAME_SIZE, hop_length=HOP_LENGTH)[0]\n",
    "rms_bylsma = librosa.feature.rms(bylsma, frame_length=FRAME_SIZE, hop_length=HOP_LENGTH)[0]"
   ]
  },
  {
   "cell_type": "markdown",
   "id": "e87ebdbb",
   "metadata": {},
   "source": [
    "## Visualise RMSE + Waveform"
   ]
  },
  {
   "cell_type": "code",
   "execution_count": null,
   "id": "1f7236f0",
   "metadata": {},
   "outputs": [],
   "source": [
    "frames_maisky = range(len(rms_maisky))\n",
    "frames_bylsma = range(len(rms_bylsma))\n",
    "\n",
    "t_maisky = librosa.frames_to_time(frames_maisky, hop_length=HOP_LENGTH)\n",
    "t_bylsma = librosa.frames_to_time(frames_bylsma, hop_length=HOP_LENGTH)"
   ]
  },
  {
   "cell_type": "code",
   "execution_count": null,
   "id": "936746c6",
   "metadata": {},
   "outputs": [],
   "source": [
    "# rms energy is graphed in red\n",
    "\n",
    "plt.figure(figsize=(15, 17))\n",
    "\n",
    "ax = plt.subplot(2, 1, 1)\n",
    "librosa.display.waveplot(maisky, alpha=0.5)\n",
    "plt.plot(t_maisky, rms_maisky, color=\"r\")\n",
    "plt.ylim((-1, 1))\n",
    "plt.title(\"RMS Energy for Maisky\")\n",
    "# plt.savefig('Plots/maisky_rms_energy.jpg', dpi=300, bbox_inches='tight')\n",
    "\n",
    "\n",
    "plt.subplot(2, 1, 2)\n",
    "librosa.display.waveplot(bylsma, alpha=0.5)\n",
    "plt.plot(t_bylsma, rms_bylsma, color=\"r\")\n",
    "plt.ylim((-1, 1))\n",
    "plt.title(\"RMS Energy for Bylsma\")\n",
    "\n",
    "\n",
    "plt.show()"
   ]
  },
  {
   "cell_type": "markdown",
   "id": "650c4e6a",
   "metadata": {},
   "source": [
    "## RMSE from scratch"
   ]
  },
  {
   "cell_type": "code",
   "execution_count": null,
   "id": "8fcda648",
   "metadata": {},
   "outputs": [],
   "source": [
    "def rmse(signal, frame_size, hop_length):\n",
    "    rmse = []\n",
    "    \n",
    "    # calculate rmse for each frame\n",
    "    for i in range(0, len(signal), hop_length): \n",
    "        rmse_current_frame = np.sqrt(sum(signal[i:i+frame_size]**2) / frame_size)\n",
    "        rmse.append(rmse_current_frame)\n",
    "    return np.array(rmse)    "
   ]
  },
  {
   "cell_type": "code",
   "execution_count": null,
   "id": "5a6a19fa",
   "metadata": {},
   "outputs": [],
   "source": [
    "rms_maisky1 = rmse(maisky, FRAME_SIZE, HOP_LENGTH)\n",
    "rms_bylsma1 = rmse(bylsma, FRAME_SIZE, HOP_LENGTH)"
   ]
  },
  {
   "cell_type": "code",
   "execution_count": null,
   "id": "85615b9e",
   "metadata": {},
   "outputs": [],
   "source": [
    "plt.figure(figsize=(15, 17))\n",
    "\n",
    "ax = plt.subplot(2, 1, 1)\n",
    "librosa.display.waveplot(maisky, alpha=0.5)\n",
    "plt.plot(t_maisky, rms_maisky, color=\"r\")\n",
    "plt.plot(t_maisky, rms_maisky1, color=\"y\")\n",
    "plt.ylim((-1, 1))\n",
    "plt.title(\"Maisky\")\n",
    "\n",
    "plt.subplot(2, 1, 2)\n",
    "librosa.display.waveplot(bylsma, alpha=0.5)\n",
    "plt.plot(t_bylsma, rms_bylsma, color=\"r\")\n",
    "plt.plot(t_bylsma, rms_bylsma1, color=\"y\")\n",
    "plt.ylim((-1, 1))\n",
    "plt.title(\"Bylsma\")\n",
    "\n",
    "\n",
    "plt.show()"
   ]
  },
  {
   "cell_type": "markdown",
   "id": "a6460b75",
   "metadata": {},
   "source": [
    "## Zero-crossing rate with Librosa"
   ]
  },
  {
   "cell_type": "code",
   "execution_count": null,
   "id": "144af674",
   "metadata": {},
   "outputs": [],
   "source": [
    "zcr_maisky = librosa.feature.zero_crossing_rate(maisky, frame_length=FRAME_SIZE, hop_length=HOP_LENGTH)[0]\n",
    "zcr_bylsma = librosa.feature.zero_crossing_rate(bylsma, frame_length=FRAME_SIZE, hop_length=HOP_LENGTH)[0]"
   ]
  },
  {
   "cell_type": "code",
   "execution_count": null,
   "id": "e30bea4e",
   "metadata": {},
   "outputs": [],
   "source": [
    "zcr_maisky.size"
   ]
  },
  {
   "cell_type": "code",
   "execution_count": null,
   "id": "3c937547",
   "metadata": {},
   "outputs": [],
   "source": [
    "zcr_bylsma.size"
   ]
  },
  {
   "cell_type": "markdown",
   "id": "130ab0e5",
   "metadata": {},
   "source": [
    "## Visualise Zero-Crossing Rate with Librosa"
   ]
  },
  {
   "cell_type": "code",
   "execution_count": null,
   "id": "89ff9f38",
   "metadata": {},
   "outputs": [],
   "source": [
    "plt.figure(figsize=(15, 10))\n",
    "\n",
    "plt.plot(t_maisky, zcr_maisky, color=\"y\")\n",
    "plt.plot(t_bylsma, zcr_bylsma, color=\"r\")\n",
    "plt.ylim(0, 1)\n",
    "plt.show()"
   ]
  },
  {
   "cell_type": "markdown",
   "id": "8a944d5b",
   "metadata": {},
   "source": [
    "# Fourier Transform"
   ]
  },
  {
   "cell_type": "code",
   "execution_count": null,
   "id": "2ce3b662",
   "metadata": {},
   "outputs": [],
   "source": [
    "# derive spectrum using FT\n",
    "ft_maisky = sp.fft.fft(maisky)\n",
    "ft_bylsma = sp.fft.fft(bylsma)\n",
    "\n",
    "magnitude_maisky = np.absolute(ft_maisky)\n",
    "magnitude_bylsma = np.absolute(ft_bylsma)\n",
    "\n",
    "frequency_maisky = np.linspace(0, sr, len(magnitude_maisky)) \n",
    "frequency_bylsma = np.linspace(0, sr, len(magnitude_bylsma)) "
   ]
  },
  {
   "cell_type": "code",
   "execution_count": null,
   "id": "2f68f70e",
   "metadata": {},
   "outputs": [],
   "source": [
    "# plot spectrum\n",
    "plt.figure(figsize=(18, 15))\n",
    "\n",
    "ax = plt.subplot(2, 1, 1)\n",
    "plt.plot(frequency_maisky[:250000], magnitude_maisky[:250000]) # magnitude spectrum\n",
    "plt.xlabel(\"Frequency (Hz)\")\n",
    "plt.ylabel(\"Magnitude\")\n",
    "plt.title(\"FT for Maisky\")\n",
    "\n",
    "plt.subplot(2, 1, 2)\n",
    "plt.plot(frequency_bylsma[:250000], magnitude_bylsma[:250000]) # magnitude spectrum\n",
    "plt.xlabel(\"Frequency (Hz)\")\n",
    "plt.ylabel(\"Magnitude\")\n",
    "plt.title(\"FT for Bylsma\")\n",
    "\n",
    "\n",
    "plt.show()"
   ]
  },
  {
   "cell_type": "code",
   "execution_count": null,
   "id": "6ec8d91a",
   "metadata": {},
   "outputs": [],
   "source": [
    "# duration of 400 samples\n",
    "d_400_samples = 400 * sample_duration\n",
    "d_400_samples"
   ]
  },
  {
   "cell_type": "code",
   "execution_count": null,
   "id": "6dd321c4",
   "metadata": {},
   "outputs": [],
   "source": [
    "# zoom in to the waveform\n",
    "samples_maisky = range(len(maisky))\n",
    "samples_bylsma = range(len(bylsma))\n",
    "\n",
    "t_maisky = librosa.samples_to_time(samples_maisky, sr=sr)\n",
    "t_bylsma = librosa.samples_to_time(samples_bylsma, sr=sr)\n",
    "\n",
    "plt.figure(figsize=(18, 15))\n",
    "\n",
    "\n",
    "ax = plt.subplot(2, 1, 1)\n",
    "plt.plot(t_maisky[10050:10400], maisky[10050:10400]) \n",
    "plt.xlabel(\"Time (s)\")\n",
    "plt.ylabel(\"Amplitude\")\n",
    "plt.title(\"Maisky\")\n",
    "\n",
    "plt.subplot(2, 1, 2)\n",
    "plt.plot(t_bylsma[11000:11400], bylsma[11000:11400]) \n",
    "plt.xlabel(\"Time (s)\")\n",
    "plt.ylabel(\"Amplitude\")\n",
    "plt.title(\"Bylsma\")\n",
    "\n",
    "plt.show()"
   ]
  },
  {
   "cell_type": "markdown",
   "id": "3c72dc78",
   "metadata": {},
   "source": [
    "# Extracting Spectrograms from Audio with Python"
   ]
  },
  {
   "cell_type": "markdown",
   "id": "3590d7e0",
   "metadata": {},
   "source": [
    "## Extracting Short-Time Fourier Transform"
   ]
  },
  {
   "cell_type": "code",
   "execution_count": null,
   "id": "e9445cb5",
   "metadata": {},
   "outputs": [],
   "source": [
    "FRAME_SIZE = 2048\n",
    "HOP_SIZE = 512"
   ]
  },
  {
   "cell_type": "code",
   "execution_count": null,
   "id": "f500c650",
   "metadata": {},
   "outputs": [],
   "source": [
    "S_maisky = librosa.stft(maisky, n_fft=FRAME_SIZE, hop_length=HOP_SIZE)\n",
    "S_bylsma = librosa.stft(bylsma, n_fft=FRAME_SIZE, hop_length=HOP_SIZE)"
   ]
  },
  {
   "cell_type": "code",
   "execution_count": null,
   "id": "0c2fa5af",
   "metadata": {},
   "outputs": [],
   "source": [
    "# first element is the number of frequency bins\n",
    "# second element is number of frames\n",
    "S_maisky.shape"
   ]
  },
  {
   "cell_type": "code",
   "execution_count": null,
   "id": "c5632b21",
   "metadata": {},
   "outputs": [],
   "source": [
    "S_bylsma.shape"
   ]
  },
  {
   "cell_type": "code",
   "execution_count": null,
   "id": "b72c7934",
   "metadata": {},
   "outputs": [],
   "source": [
    "type(S_maisky[0][0])"
   ]
  },
  {
   "cell_type": "markdown",
   "id": "26e60718",
   "metadata": {},
   "source": [
    "## Calculating the Spectrogram"
   ]
  },
  {
   "cell_type": "code",
   "execution_count": null,
   "id": "bd858bcb",
   "metadata": {},
   "outputs": [],
   "source": [
    "Y_maisky = np.abs(S_maisky) ** 2\n",
    "Y_bylsma = np.abs(S_bylsma) ** 2"
   ]
  },
  {
   "cell_type": "code",
   "execution_count": null,
   "id": "d78088b1",
   "metadata": {},
   "outputs": [],
   "source": [
    "Y_maisky.shape"
   ]
  },
  {
   "cell_type": "code",
   "execution_count": null,
   "id": "16c3dc30",
   "metadata": {},
   "outputs": [],
   "source": [
    "Y_bylsma.shape"
   ]
  },
  {
   "cell_type": "code",
   "execution_count": null,
   "id": "3a96b8da",
   "metadata": {},
   "outputs": [],
   "source": [
    "type(Y_maisky[0][0])"
   ]
  },
  {
   "cell_type": "markdown",
   "id": "687dd303",
   "metadata": {},
   "source": [
    "## Visualizing the Spectrogram"
   ]
  },
  {
   "cell_type": "code",
   "execution_count": null,
   "id": "4bab6a57",
   "metadata": {},
   "outputs": [],
   "source": [
    "def plot_spectrogram(Y, sr, hop_length, y_axis=\"linear\"):\n",
    "    plt.figure(figsize=(25, 10))\n",
    "    librosa.display.specshow(Y, \n",
    "                             sr=sr, \n",
    "                             hop_length=hop_length, \n",
    "                             x_axis=\"time\", \n",
    "                             y_axis=y_axis)\n",
    "    plt.colorbar(format=\"%+2.f\")"
   ]
  },
  {
   "cell_type": "code",
   "execution_count": null,
   "id": "5454d86f",
   "metadata": {},
   "outputs": [],
   "source": [
    "plot_spectrogram(Y_maisky, sr, HOP_SIZE)"
   ]
  },
  {
   "cell_type": "markdown",
   "id": "c0e8870b",
   "metadata": {},
   "source": [
    "## Log-Amplitude Spectrogram"
   ]
  },
  {
   "cell_type": "code",
   "execution_count": null,
   "id": "617ad354",
   "metadata": {},
   "outputs": [],
   "source": [
    "Y_log_maisky = librosa.power_to_db(Y_maisky)\n",
    "plot_spectrogram(Y_log_maisky, sr, HOP_SIZE)"
   ]
  },
  {
   "cell_type": "code",
   "execution_count": null,
   "id": "d6af6532",
   "metadata": {},
   "outputs": [],
   "source": [
    "Y_log_bylsma = librosa.power_to_db(Y_bylsma)\n",
    "plot_spectrogram(Y_log_bylsma, sr, HOP_SIZE)"
   ]
  },
  {
   "cell_type": "markdown",
   "id": "61645770",
   "metadata": {},
   "source": [
    "## Log-Frequency Spectrogram"
   ]
  },
  {
   "cell_type": "code",
   "execution_count": null,
   "id": "fd18dba8",
   "metadata": {},
   "outputs": [],
   "source": [
    "plot_spectrogram(Y_log_maisky, sr, HOP_SIZE, y_axis=\"log\")"
   ]
  },
  {
   "cell_type": "code",
   "execution_count": null,
   "id": "8cccdbed",
   "metadata": {},
   "outputs": [],
   "source": [
    "plot_spectrogram(Y_log_bylsma, sr, HOP_SIZE, y_axis=\"log\")"
   ]
  },
  {
   "cell_type": "markdown",
   "id": "dae9106f",
   "metadata": {},
   "source": [
    "## Another Way of Calculating Log Spectogram"
   ]
  },
  {
   "cell_type": "code",
   "execution_count": null,
   "id": "4cf71021",
   "metadata": {},
   "outputs": [],
   "source": [
    "S_maisky = librosa.stft(maisky, n_fft=FRAME_SIZE, hop_length=HOP_SIZE)\n",
    "S_bylsma = librosa.stft(bylsma, n_fft=FRAME_SIZE, hop_length=HOP_SIZE)\n",
    "\n",
    "Y_maisky = librosa.power_to_db(np.abs(S_maisky) ** 2)\n",
    "Y_bylsma = librosa.power_to_db(np.abs(S_bylsma) ** 2)\n",
    "\n",
    "plot_spectrogram(Y_maisky, sr, HOP_SIZE, y_axis=\"log\")\n",
    "plot_spectrogram(Y_bylsma, sr, HOP_SIZE, y_axis=\"log\")"
   ]
  },
  {
   "cell_type": "markdown",
   "id": "c0b5813b",
   "metadata": {},
   "source": [
    "# Extracting Mel Spectograms"
   ]
  },
  {
   "cell_type": "markdown",
   "id": "2040b66d",
   "metadata": {},
   "source": [
    "## Mel Filter Banks"
   ]
  },
  {
   "cell_type": "code",
   "execution_count": null,
   "id": "425d255c",
   "metadata": {},
   "outputs": [],
   "source": [
    "filter_banks = librosa.filters.mel(n_fft=2048, sr=22050, n_mels=10)"
   ]
  },
  {
   "cell_type": "code",
   "execution_count": null,
   "id": "8fbebbfd",
   "metadata": {},
   "outputs": [],
   "source": [
    "filter_banks.shape"
   ]
  },
  {
   "cell_type": "code",
   "execution_count": null,
   "id": "834775f9",
   "metadata": {},
   "outputs": [],
   "source": [
    "plt.figure(figsize=(25, 10))\n",
    "librosa.display.specshow(filter_banks, \n",
    "                         sr=sr, \n",
    "                         x_axis=\"linear\")\n",
    "plt.colorbar(format=\"%+2.f\")\n",
    "plt.show()"
   ]
  },
  {
   "cell_type": "markdown",
   "id": "7493fa54",
   "metadata": {},
   "source": [
    "## Extracting Mel Spectrogram"
   ]
  },
  {
   "cell_type": "code",
   "execution_count": null,
   "id": "5948e5ba",
   "metadata": {},
   "outputs": [],
   "source": [
    "mel_spectrogram_maisky = librosa.feature.melspectrogram(maisky, sr=sr, n_fft=2048, \n",
    "                                                        hop_length=512, n_mels=90)\n",
    "mel_spectrogram_bylsma = librosa.feature.melspectrogram(bylsma, sr=sr, n_fft=2048, \n",
    "                                                        hop_length=512, n_mels=90)"
   ]
  },
  {
   "cell_type": "code",
   "execution_count": null,
   "id": "85101b65",
   "metadata": {},
   "outputs": [],
   "source": [
    "# first dimension is number of mel filter banks\n",
    "# second dimensino is number of frames or temporal bins\n",
    "mel_spectrogram_maisky.shape"
   ]
  },
  {
   "cell_type": "code",
   "execution_count": null,
   "id": "0eb19e3e",
   "metadata": {},
   "outputs": [],
   "source": [
    "mel_spectrogram_bylsma.shape"
   ]
  },
  {
   "cell_type": "code",
   "execution_count": null,
   "id": "baef6160",
   "metadata": {},
   "outputs": [],
   "source": [
    "log_mel_spectrogram_maisky = librosa.power_to_db(mel_spectrogram_maisky)\n",
    "log_mel_spectrogram_bylsma = librosa.power_to_db(mel_spectrogram_bylsma)"
   ]
  },
  {
   "cell_type": "code",
   "execution_count": null,
   "id": "ceddf8a2",
   "metadata": {},
   "outputs": [],
   "source": [
    "log_mel_spectrogram_maisky.shape"
   ]
  },
  {
   "cell_type": "code",
   "execution_count": null,
   "id": "e3c09feb",
   "metadata": {},
   "outputs": [],
   "source": [
    "log_mel_spectrogram_bylsma.shape"
   ]
  },
  {
   "cell_type": "code",
   "execution_count": null,
   "id": "bbf850da",
   "metadata": {},
   "outputs": [],
   "source": [
    "plt.figure(figsize=(18, 15))\n",
    "\n",
    "ax = plt.subplot(2, 1, 1)\n",
    "librosa.display.specshow(log_mel_spectrogram_maisky, \n",
    "                         x_axis=\"time\",\n",
    "                         y_axis=\"mel\", \n",
    "                         sr=sr)\n",
    "plt.colorbar(format=\"%+2.f\")\n",
    "plt.title(\"Log Mel Spectogram for Maisky\")\n",
    "\n",
    "plt.subplot(2, 1, 2)\n",
    "librosa.display.specshow(log_mel_spectrogram_bylsma, \n",
    "                         x_axis=\"time\",\n",
    "                         y_axis=\"mel\", \n",
    "                         sr=sr)\n",
    "plt.colorbar(format=\"%+2.f\")\n",
    "plt.title(\"Log Mel Spectogram for Bylsma\")\n",
    "\n",
    "\n",
    "plt.show()"
   ]
  },
  {
   "cell_type": "markdown",
   "id": "6f40ad7f",
   "metadata": {},
   "source": [
    "# Extracting MFCCs"
   ]
  },
  {
   "cell_type": "markdown",
   "id": "969c52ab",
   "metadata": {},
   "source": [
    "## Extracting MFCCs"
   ]
  },
  {
   "cell_type": "code",
   "execution_count": null,
   "id": "2cc8927a",
   "metadata": {},
   "outputs": [],
   "source": [
    "mfccs_maisky = librosa.feature.mfcc(y=maisky, n_mfcc=10, sr=sr)\n",
    "mfccs_bylsma = librosa.feature.mfcc(y=bylsma, n_mfcc=10, sr=sr)"
   ]
  },
  {
   "cell_type": "code",
   "execution_count": null,
   "id": "f2d54b39",
   "metadata": {},
   "outputs": [],
   "source": [
    "# first dimension is number of MFCCs\n",
    "# second dimension is number of frames\n",
    "mfccs_maisky.shape"
   ]
  },
  {
   "cell_type": "code",
   "execution_count": null,
   "id": "8b093622",
   "metadata": {},
   "outputs": [],
   "source": [
    "mfccs_bylsma.shape"
   ]
  },
  {
   "cell_type": "markdown",
   "id": "5c2f93ea",
   "metadata": {},
   "source": [
    "## Visualising MFCCs"
   ]
  },
  {
   "cell_type": "code",
   "execution_count": null,
   "id": "d75c8a79",
   "metadata": {},
   "outputs": [],
   "source": [
    "plt.figure(figsize=(25, 10))\n",
    "librosa.display.specshow(mfccs_maisky, \n",
    "                         x_axis=\"time\", \n",
    "                         sr=sr)\n",
    "plt.colorbar(format=\"%+2.f\")\n",
    "plt.title(\"MFCCs for Maisky\")\n",
    "# plt.savefig('Plots/maisky_mfccs.jpg', dpi=300, bbox_inches='tight')\n",
    "\n",
    "plt.show()"
   ]
  },
  {
   "cell_type": "code",
   "execution_count": null,
   "id": "66154006",
   "metadata": {},
   "outputs": [],
   "source": [
    "plt.figure(figsize=(25, 10))\n",
    "librosa.display.specshow(mfccs_bylsma, \n",
    "                         x_axis=\"time\", \n",
    "                         sr=sr)\n",
    "plt.colorbar(format=\"%+2.f\")\n",
    "plt.title(\"MFCCs for Bylsma\")\n",
    "\n",
    "plt.show()"
   ]
  },
  {
   "cell_type": "markdown",
   "id": "899a76f2",
   "metadata": {},
   "source": [
    "## Computing First / Second MFCCs Derivatives"
   ]
  },
  {
   "cell_type": "code",
   "execution_count": null,
   "id": "776fd498",
   "metadata": {},
   "outputs": [],
   "source": [
    "delta_mfccs_maisky = librosa.feature.delta(mfccs_maisky)\n",
    "delta_mfccs_bylsma = librosa.feature.delta(mfccs_bylsma)"
   ]
  },
  {
   "cell_type": "code",
   "execution_count": null,
   "id": "edb034c4",
   "metadata": {},
   "outputs": [],
   "source": [
    "delta2_mfccs_maisky = librosa.feature.delta(mfccs_maisky, order=2)\n",
    "delta2_mfccs_bylsma = librosa.feature.delta(mfccs_bylsma, order=2)"
   ]
  },
  {
   "cell_type": "code",
   "execution_count": null,
   "id": "4ae27568",
   "metadata": {},
   "outputs": [],
   "source": [
    "delta_mfccs_maisky.shape"
   ]
  },
  {
   "cell_type": "code",
   "execution_count": null,
   "id": "800690fe",
   "metadata": {},
   "outputs": [],
   "source": [
    "delta_mfccs_bylsma.shape"
   ]
  },
  {
   "cell_type": "code",
   "execution_count": null,
   "id": "84777cf7",
   "metadata": {},
   "outputs": [],
   "source": [
    "plt.figure(figsize=(25, 10))\n",
    "librosa.display.specshow(delta_mfccs_maisky, \n",
    "                         x_axis=\"time\", \n",
    "                         sr=sr)\n",
    "plt.colorbar(format=\"%+2.f\")\n",
    "plt.show()"
   ]
  },
  {
   "cell_type": "code",
   "execution_count": null,
   "id": "93608df0",
   "metadata": {},
   "outputs": [],
   "source": [
    "plt.figure(figsize=(25, 10))\n",
    "librosa.display.specshow(delta2_mfccs_maisky, \n",
    "                         x_axis=\"time\", \n",
    "                         sr=sr)\n",
    "plt.colorbar(format=\"%+2.f\")\n",
    "plt.show()"
   ]
  },
  {
   "cell_type": "code",
   "execution_count": null,
   "id": "6c0a39e2",
   "metadata": {},
   "outputs": [],
   "source": [
    "mfccs_features_maisky = np.concatenate((mfccs_maisky, delta_mfccs_maisky, delta2_mfccs_maisky))\n",
    "mfccs_features_bylsma = np.concatenate((mfccs_bylsma, delta_mfccs_bylsma, delta2_mfccs_bylsma))"
   ]
  },
  {
   "cell_type": "code",
   "execution_count": null,
   "id": "a0984feb",
   "metadata": {},
   "outputs": [],
   "source": [
    "mfccs_features_maisky.shape"
   ]
  },
  {
   "cell_type": "code",
   "execution_count": null,
   "id": "d25bbc4b",
   "metadata": {},
   "outputs": [],
   "source": [
    "mfccs_features_bylsma.shape"
   ]
  },
  {
   "cell_type": "markdown",
   "id": "9046c058",
   "metadata": {},
   "source": [
    "# Implementing Band Energy Ratio"
   ]
  },
  {
   "cell_type": "code",
   "execution_count": null,
   "id": "d8c08c7b",
   "metadata": {},
   "outputs": [],
   "source": [
    "S_maisky.shape"
   ]
  },
  {
   "cell_type": "markdown",
   "id": "2c80dae0",
   "metadata": {},
   "source": [
    "## Calculate Band Energy Ratio"
   ]
  },
  {
   "cell_type": "code",
   "execution_count": null,
   "id": "76d5b0e8",
   "metadata": {},
   "outputs": [],
   "source": [
    "def calculate_split_frequency_bin(split_frequency, sample_rate, num_frequency_bins):\n",
    "    \"\"\"Infer the frequency bin associated to a given split frequency.\"\"\"\n",
    "    \n",
    "    frequency_range = sample_rate / 2\n",
    "    frequency_delta_per_bin = frequency_range / num_frequency_bins\n",
    "    split_frequency_bin = math.floor(split_frequency / frequency_delta_per_bin)\n",
    "    return int(split_frequency_bin)"
   ]
  },
  {
   "cell_type": "code",
   "execution_count": null,
   "id": "54813a00",
   "metadata": {},
   "outputs": [],
   "source": [
    "split_frequency_bin = calculate_split_frequency_bin(2000, 22050, 1025)\n",
    "split_frequency_bin"
   ]
  },
  {
   "cell_type": "code",
   "execution_count": null,
   "id": "e09fbaf7",
   "metadata": {},
   "outputs": [],
   "source": [
    "# S_maisky = librosa.stft(yt, n_fft=FRAME_SIZE, hop_length=HOP_SIZE)\n",
    "# power_spectrogram = np.abs(S_maisky) ** 2\n",
    "# power_spectrogram = power_spectrogram.T\n",
    "# # ber_maisky = band_energy_ratio(S_maisky, 2000, sr)\n",
    "# power_spectrogram"
   ]
  },
  {
   "cell_type": "code",
   "execution_count": null,
   "id": "954ff2bc",
   "metadata": {},
   "outputs": [],
   "source": [
    "def band_energy_ratio(spectrogram, split_frequency, sample_rate):\n",
    "    \"\"\"Calculate band energy ratio with a given split frequency.\"\"\"\n",
    "    \n",
    "    split_frequency_bin = calculate_split_frequency_bin(split_frequency, sample_rate, len(spectrogram[0]))\n",
    "    band_energy_ratio = []\n",
    "    \n",
    "    # calculate power spectrogram\n",
    "    power_spectrogram = np.abs(spectrogram) ** 2\n",
    "    power_spectrogram = power_spectrogram.T\n",
    "    \n",
    "    # calculate BER value for each frame\n",
    "    for frame in power_spectrogram:\n",
    "        sum_power_low_frequencies = frame[:split_frequency_bin].sum()\n",
    "        sum_power_high_frequencies = frame[split_frequency_bin:].sum()\n",
    "        band_energy_ratio_current_frame = sum_power_low_frequencies / sum_power_high_frequencies\n",
    "        band_energy_ratio.append(band_energy_ratio_current_frame)\n",
    "    \n",
    "    return np.array(band_energy_ratio)"
   ]
  },
  {
   "cell_type": "code",
   "execution_count": null,
   "id": "df6db08d",
   "metadata": {},
   "outputs": [],
   "source": [
    "# S_maisky = librosa.stft(yt, n_fft=FRAME_SIZE, hop_length=HOP_SIZE)\n",
    "\n",
    "ber_maisky = band_energy_ratio(S_maisky, 2000, sr)\n",
    "ber_bylsma = band_energy_ratio(S_bylsma, 2000, sr)"
   ]
  },
  {
   "cell_type": "code",
   "execution_count": null,
   "id": "31de130a",
   "metadata": {},
   "outputs": [],
   "source": [
    "len(ber_maisky)"
   ]
  },
  {
   "cell_type": "code",
   "execution_count": null,
   "id": "dbbddb0b",
   "metadata": {},
   "outputs": [],
   "source": [
    "len(ber_bylsma)"
   ]
  },
  {
   "cell_type": "markdown",
   "id": "a24e2091",
   "metadata": {},
   "source": [
    "## Visualise Band Energy Ratio"
   ]
  },
  {
   "cell_type": "code",
   "execution_count": null,
   "id": "c8b53e6c",
   "metadata": {},
   "outputs": [],
   "source": [
    "frames_maisky = range(len(ber_maisky))\n",
    "frames_bylsma = range(len(ber_bylsma))\n",
    "\n",
    "t_maisky = librosa.frames_to_time(frames_maisky, hop_length=HOP_SIZE)\n",
    "t_bylsma = librosa.frames_to_time(frames_bylsma, hop_length=HOP_SIZE)"
   ]
  },
  {
   "cell_type": "code",
   "execution_count": null,
   "id": "3e83493c",
   "metadata": {},
   "outputs": [],
   "source": [
    "plt.figure(figsize=(25, 10))\n",
    "\n",
    "plt.plot(t_maisky, ber_maisky, color=\"b\")\n",
    "plt.plot(t_bylsma, ber_bylsma, color=\"r\")\n",
    "plt.ylim((0, 20000))\n",
    "plt.show()"
   ]
  },
  {
   "cell_type": "code",
   "execution_count": null,
   "id": "83a8a39e",
   "metadata": {},
   "outputs": [],
   "source": [
    "ber_maisky"
   ]
  },
  {
   "cell_type": "code",
   "execution_count": null,
   "id": "5c4903b4",
   "metadata": {},
   "outputs": [],
   "source": [
    "# Trim the beginning and ending silence\n",
    "yt, index = librosa.effects.trim(maisky)\n",
    "# Print the durations\n",
    "print(librosa.get_duration(maisky), librosa.get_duration(yt))"
   ]
  },
  {
   "cell_type": "code",
   "execution_count": null,
   "id": "7de40698",
   "metadata": {},
   "outputs": [],
   "source": [
    "# ipd.Audio(yt, rate=sr)"
   ]
  },
  {
   "cell_type": "code",
   "execution_count": null,
   "id": "2dd9cf0d",
   "metadata": {},
   "outputs": [],
   "source": [
    "yt"
   ]
  },
  {
   "cell_type": "code",
   "execution_count": null,
   "id": "0c8e495a",
   "metadata": {},
   "outputs": [],
   "source": [
    "(yt == 0).sum()"
   ]
  },
  {
   "cell_type": "markdown",
   "id": "b67a843b",
   "metadata": {},
   "source": [
    "# Spectral Centroid and Bandwidth"
   ]
  },
  {
   "cell_type": "code",
   "execution_count": null,
   "id": "caa06435",
   "metadata": {},
   "outputs": [],
   "source": [
    "FRAME_SIZE = 1024\n",
    "HOP_LENGTH = 512"
   ]
  },
  {
   "cell_type": "code",
   "execution_count": null,
   "id": "52bd031d",
   "metadata": {},
   "outputs": [],
   "source": [
    "sc_maisky = librosa.feature.spectral_centroid(y=maisky, sr=sr, n_fft=FRAME_SIZE, hop_length=HOP_LENGTH)[0]\n",
    "sc_bylsma = librosa.feature.spectral_centroid(y=bylsma, sr=sr, n_fft=FRAME_SIZE, hop_length=HOP_LENGTH)[0]"
   ]
  },
  {
   "cell_type": "code",
   "execution_count": null,
   "id": "b1b3bdc0",
   "metadata": {},
   "outputs": [],
   "source": [
    "sc_maisky.shape"
   ]
  },
  {
   "cell_type": "code",
   "execution_count": null,
   "id": "c47a50e2",
   "metadata": {},
   "outputs": [],
   "source": [
    "sc_bylsma.shape"
   ]
  },
  {
   "cell_type": "markdown",
   "id": "0a71d9a0",
   "metadata": {},
   "source": [
    "## Visualising Spectral Centroid"
   ]
  },
  {
   "cell_type": "code",
   "execution_count": null,
   "id": "4ba1c02b",
   "metadata": {},
   "outputs": [],
   "source": [
    "frames_maisky = range(len(sc_maisky))\n",
    "frames_bylsma = range(len(sc_bylsma))\n",
    "\n",
    "t_maisky = librosa.frames_to_time(frames_maisky, hop_length=HOP_LENGTH)\n",
    "t_bylsma = librosa.frames_to_time(frames_bylsma, hop_length=HOP_LENGTH)"
   ]
  },
  {
   "cell_type": "code",
   "execution_count": null,
   "id": "0eee993f",
   "metadata": {},
   "outputs": [],
   "source": [
    "len(t_maisky)"
   ]
  },
  {
   "cell_type": "code",
   "execution_count": null,
   "id": "934da6b2",
   "metadata": {},
   "outputs": [],
   "source": [
    "len(t_bylsma)"
   ]
  },
  {
   "cell_type": "code",
   "execution_count": null,
   "id": "28677475",
   "metadata": {},
   "outputs": [],
   "source": [
    "plt.figure(figsize=(25,20))\n",
    "\n",
    "plt.plot(t_maisky, sc_maisky, color='b')\n",
    "plt.plot(t_bylsma, sc_bylsma, color='r')\n",
    "plt.xlabel('Time (s)')\n",
    "plt.legend(['Maisky', 'Bylsma'])\n",
    "plt.title('Spectral Centroids for Maisky and Bylsma')\n",
    "\n",
    "plt.show()"
   ]
  },
  {
   "cell_type": "markdown",
   "id": "57a6d360",
   "metadata": {},
   "source": [
    "## Spectral Bandwidth with Librosa"
   ]
  },
  {
   "cell_type": "code",
   "execution_count": null,
   "id": "315148f2",
   "metadata": {},
   "outputs": [],
   "source": [
    "ban_maisky = librosa.feature.spectral_bandwidth(y=maisky, sr=sr, n_fft=FRAME_SIZE, hop_length=HOP_LENGTH)[0]\n",
    "ban_bylsma = librosa.feature.spectral_bandwidth(y=bylsma, sr=sr, n_fft=FRAME_SIZE, hop_length=HOP_LENGTH)[0]"
   ]
  },
  {
   "cell_type": "code",
   "execution_count": null,
   "id": "7b6e8c86",
   "metadata": {},
   "outputs": [],
   "source": [
    "ban_maisky.shape"
   ]
  },
  {
   "cell_type": "markdown",
   "id": "7dd86928",
   "metadata": {},
   "source": [
    "## Visualising Spectral Bandwidth "
   ]
  },
  {
   "cell_type": "code",
   "execution_count": null,
   "id": "df07b2fb",
   "metadata": {},
   "outputs": [],
   "source": [
    "plt.figure(figsize=(25,10))\n",
    "\n",
    "plt.plot(t_maisky, ban_maisky, color='b')\n",
    "plt.plot(t_bylsma, ban_bylsma, color='r')\n",
    "plt.xlabel('Time (s)')\n",
    "plt.legend(['Maisky', 'Bylsma'])\n",
    "plt.title('Spectral Bandwidth for Maisky and Bylsma')\n",
    "\n",
    "plt.show()"
   ]
  },
  {
   "cell_type": "code",
   "execution_count": null,
   "id": "86623c4a",
   "metadata": {},
   "outputs": [],
   "source": []
  }
 ],
 "metadata": {
  "kernelspec": {
   "display_name": "Python 3 (ipykernel)",
   "language": "python",
   "name": "python3"
  },
  "language_info": {
   "codemirror_mode": {
    "name": "ipython",
    "version": 3
   },
   "file_extension": ".py",
   "mimetype": "text/x-python",
   "name": "python",
   "nbconvert_exporter": "python",
   "pygments_lexer": "ipython3",
   "version": "3.9.7"
  }
 },
 "nbformat": 4,
 "nbformat_minor": 5
}
