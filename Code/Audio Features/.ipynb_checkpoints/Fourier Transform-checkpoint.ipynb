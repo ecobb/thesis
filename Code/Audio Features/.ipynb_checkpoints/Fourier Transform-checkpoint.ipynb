{
 "cells": [
  {
   "cell_type": "code",
   "execution_count": null,
   "metadata": {},
   "outputs": [],
   "source": [
    "import librosa\n",
    "import librosa.display\n",
    "import scipy as sp\n",
    "import IPython.display as ipd\n",
    "import matplotlib.pyplot as plt\n",
    "import numpy as np"
   ]
  },
  {
   "cell_type": "code",
   "execution_count": null,
   "metadata": {},
   "outputs": [],
   "source": [
    "# load audio file in the player\n",
    "audio_path = \"Audio/maisky.wav\"\n",
    "# ipd.Audio(audio_path)"
   ]
  },
  {
   "cell_type": "code",
   "execution_count": null,
   "metadata": {},
   "outputs": [],
   "source": [
    "# load audio file\n",
    "signal, sr = librosa.load(audio_path)"
   ]
  },
  {
   "cell_type": "code",
   "execution_count": null,
   "metadata": {},
   "outputs": [],
   "source": [
    "# plot waveform\n",
    "plt.figure(figsize=(18, 8))\n",
    "librosa.display.waveplot(signal, sr=sr, alpha=0.5)\n",
    "plt.show()"
   ]
  },
  {
   "cell_type": "code",
   "execution_count": null,
   "metadata": {},
   "outputs": [],
   "source": [
    "# derive spectrum using FT\n",
    "ft = sp.fft.fft(signal)\n",
    "magnitude = np.absolute(ft)\n",
    "frequency = np.linspace(0, sr, len(magnitude)) "
   ]
  },
  {
   "cell_type": "code",
   "execution_count": null,
   "metadata": {},
   "outputs": [],
   "source": [
    "# plot spectrum\n",
    "plt.figure(figsize=(18, 8))\n",
    "plt.plot(frequency[:5000], magnitude[:5000]) # magnitude spectrum\n",
    "plt.xlabel(\"Frequency (Hz)\")\n",
    "plt.ylabel(\"Magnitude\")\n",
    "plt.show()"
   ]
  },
  {
   "cell_type": "code",
   "execution_count": null,
   "metadata": {},
   "outputs": [],
   "source": [
    "len(signal)"
   ]
  },
  {
   "cell_type": "code",
   "execution_count": null,
   "metadata": {},
   "outputs": [],
   "source": [
    "d =  1 / sr\n",
    "d"
   ]
  },
  {
   "cell_type": "code",
   "execution_count": null,
   "metadata": {},
   "outputs": [],
   "source": [
    "d_523 = 1 / 523\n",
    "d_523"
   ]
  },
  {
   "cell_type": "code",
   "execution_count": null,
   "metadata": {},
   "outputs": [],
   "source": [
    "d_400_samples = 400 * d\n",
    "d_400_samples"
   ]
  },
  {
   "cell_type": "code",
   "execution_count": null,
   "metadata": {},
   "outputs": [],
   "source": [
    "# zoom in to the waveform\n",
    "samples = range(len(signal))\n",
    "t = librosa.samples_to_time(samples, sr=sr)\n",
    "\n",
    "plt.figure(figsize=(18, 8))\n",
    "plt.plot(t[10000:10400], signal[10000:10400]) \n",
    "plt.xlabel(\"Time (s)\")\n",
    "plt.ylabel(\"Amplitude\")\n",
    "plt.show()"
   ]
  },
  {
   "cell_type": "code",
   "execution_count": null,
   "metadata": {},
   "outputs": [],
   "source": [
    "# create a sinusoid\n",
    "\n",
    "f = 523\n",
    "phase = 0\n",
    "phase2 = 0.2\n",
    "\n",
    "sin = 0.5 * np.sin(2*np.pi * (f * t - phase))\n",
    "sin2 = 0.5 * np.sin(2*np.pi * (f * t - phase2))\n",
    "\n",
    "plt.figure(figsize=(18, 8))\n",
    "plt.plot(t[10000:10400], sin[10000:10400], color=\"r\")\n",
    "plt.plot(t[10000:10400], sin2[10000:10400], color=\"y\")\n",
    "\n",
    "\n",
    "plt.xlabel(\"Time (s)\")\n",
    "plt.ylabel(\"Amplitude\")\n",
    "plt.show()"
   ]
  },
  {
   "cell_type": "code",
   "execution_count": null,
   "metadata": {},
   "outputs": [],
   "source": [
    "# compare signal and sinusoids\n",
    "\n",
    "f = 523\n",
    "phase = 0.55\n",
    "\n",
    "sin = 0.1 * np.sin(2*np.pi * (f * t - phase))\n",
    "\n",
    "plt.figure(figsize=(18, 8))\n",
    "plt.plot(t[10000:10400], signal[10000:10400]) \n",
    "plt.plot(t[10000:10400], sin[10000:10400], color=\"r\")\n",
    "\n",
    "plt.fill_between(t[10000:10400], sin[10000:10400]*signal[10000:10400], color=\"y\")\n",
    "\n",
    "plt.xlabel(\"Time (s)\")\n",
    "plt.ylabel(\"Amplitude\")\n",
    "plt.show()\n"
   ]
  },
  {
   "cell_type": "code",
   "execution_count": null,
   "metadata": {},
   "outputs": [],
   "source": [
    "# plot spectrum\n",
    "plt.figure(figsize=(18, 8))\n",
    "plt.plot(frequency[:5000], magnitude[:5000]) # magnitude spectrum\n",
    "plt.xlabel(\"Frequency (Hz)\")\n",
    "plt.ylabel(\"Magnitude\")\n",
    "plt.show()"
   ]
  },
  {
   "cell_type": "code",
   "execution_count": null,
   "metadata": {},
   "outputs": [],
   "source": [
    "# superimposing pure tones\n",
    "f = 1\n",
    "t = np.linspace(0, 10, 10000)\n",
    "\n",
    "sin = np.sin(2*np.pi * (f * t))\n",
    "sin2 = np.sin(2*np.pi * (2*f * t))\n",
    "sin3 = np.sin(2*np.pi * (3*f * t))\n",
    "\n",
    "sum_signal = sin + sin2 + sin3\n",
    "\n",
    "plt.figure(figsize=(15, 10))\n",
    "\n",
    "plt.subplot(4, 1, 1)\n",
    "plt.plot(t, sum_signal, color=\"r\")\n",
    "\n",
    "plt.subplot(4, 1, 2)\n",
    "plt.plot(t, sin)\n",
    "\n",
    "plt.subplot(4, 1, 3)\n",
    "plt.plot(t, sin2)\n",
    "\n",
    "plt.subplot(4, 1, 4)\n",
    "plt.plot(t, sin3)\n",
    "\n",
    "plt.show()"
   ]
  },
  {
   "cell_type": "code",
   "execution_count": null,
   "metadata": {},
   "outputs": [],
   "source": []
  }
 ],
 "metadata": {
  "kernelspec": {
   "display_name": "Python 3 (ipykernel)",
   "language": "python",
   "name": "python3"
  },
  "language_info": {
   "codemirror_mode": {
    "name": "ipython",
    "version": 3
   },
   "file_extension": ".py",
   "mimetype": "text/x-python",
   "name": "python",
   "nbconvert_exporter": "python",
   "pygments_lexer": "ipython3",
   "version": "3.9.7"
  }
 },
 "nbformat": 4,
 "nbformat_minor": 4
}
