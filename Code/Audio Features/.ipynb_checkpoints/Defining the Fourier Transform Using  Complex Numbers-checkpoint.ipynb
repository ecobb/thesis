{
 "cells": [
  {
   "cell_type": "code",
   "execution_count": null,
   "metadata": {},
   "outputs": [],
   "source": [
    "import cmath\n",
    "import matplotlib.pyplot as plt\n",
    "import numpy as np"
   ]
  },
  {
   "cell_type": "code",
   "execution_count": null,
   "metadata": {},
   "outputs": [],
   "source": [
    "def create_signal(frequency, time):\n",
    "    sin = np.sin(2 * np.pi * (frequency * time))\n",
    "    sin2 = np.sin(2 * np.pi * (2 * frequency * time))\n",
    "    sin3 = np.sin(2 * np.pi * (3 * frequency * time))\n",
    "\n",
    "    return sin + sin2 + sin3"
   ]
  },
  {
   "cell_type": "code",
   "execution_count": null,
   "metadata": {},
   "outputs": [],
   "source": [
    "def calculate_centre_of_gravity(mult_signal):\n",
    "    x_centre = np.mean([x.real for x in mult_signal])\n",
    "    y_centre = np.mean([x.imag for x in mult_signal])\n",
    "    return x_centre, y_centre"
   ]
  },
  {
   "cell_type": "code",
   "execution_count": null,
   "metadata": {},
   "outputs": [],
   "source": [
    "def calculate_sum(mult_signal):\n",
    "    x_sum = np.sum([x.real for x in mult_signal])\n",
    "    y_sum = np.sum([x.imag for x in mult_signal])\n",
    "    return x_sum, y_sum"
   ]
  },
  {
   "cell_type": "code",
   "execution_count": null,
   "metadata": {},
   "outputs": [],
   "source": [
    "def create_pure_tone(frequency, time):\n",
    "    angle = -2 * np.pi * frequency * time\n",
    "    return np.cos(angle) + 1j * np.sin(angle)"
   ]
  },
  {
   "cell_type": "code",
   "execution_count": null,
   "metadata": {},
   "outputs": [],
   "source": [
    "def plot_fourier_transform(pure_tone_frequency, \n",
    "                           signal_frequency, \n",
    "                           time, \n",
    "                           plot_centre_of_gravity=False,\n",
    "                           plot_sum=False):\n",
    "    \n",
    "    # create sinusoid and signal\n",
    "    pure_tone = create_pure_tone(pure_tone_frequency, time)\n",
    "    signal = create_signal(signal_frequency, time)\n",
    "    \n",
    "    # multiply pure tone and signal\n",
    "    mult_signal = pure_tone * signal\n",
    "    \n",
    "    X = [x.real for x in mult_signal]\n",
    "    Y = [x.imag for x in mult_signal]\n",
    "\n",
    "    plt.figure(figsize=(15, 10))\n",
    "    plt.plot(X, Y, 'o')\n",
    "\n",
    "    # calculate and plot centre of gravity\n",
    "    if plot_centre_of_gravity:\n",
    "        centre_of_gravity = calculate_centre_of_gravity(mult_signal)\n",
    "        plt.plot([centre_of_gravity[0]], [centre_of_gravity[1]], marker='o', markersize=10, color=\"red\")\n",
    "\n",
    "\n",
    "    # calculate and plot sum \n",
    "    if plot_sum:\n",
    "        integral = calculate_sum(mult_signal)\n",
    "        plt.plot([integral[0]], [integral[1]], marker='o', markersize=10, color=\"green\")\n",
    "\n",
    "    \n",
    "    # set origin axes\n",
    "    ax = plt.gca()\n",
    "    ax.grid(True)\n",
    "    ax.spines['left'].set_position('zero')\n",
    "    ax.spines['right'].set_color('none')\n",
    "    ax.spines['bottom'].set_position('zero')\n",
    "    ax.spines['top'].set_color('none')\n",
    "\n",
    "    if not plot_sum:\n",
    "        plt.xlim(-3, 3)\n",
    "        plt.ylim(-3, 3)\n",
    "\n",
    "    plt.show()"
   ]
  },
  {
   "cell_type": "code",
   "execution_count": null,
   "metadata": {},
   "outputs": [],
   "source": [
    "def plot_signal(signal, time):\n",
    "    plt.figure(figsize=(15, 10))\n",
    "    plt.plot(signal, time)\n",
    "    plt.xlabel(\"Time\")\n",
    "    plt.ylabel(\"Intensity\")\n",
    "    plt.show()"
   ]
  },
  {
   "cell_type": "code",
   "execution_count": null,
   "metadata": {},
   "outputs": [],
   "source": [
    "time = np.linspace(0, 10, 10000)\n",
    "signal = create_signal(frequency=1, time=time)\n",
    "plot_signal(time, signal)"
   ]
  },
  {
   "cell_type": "code",
   "execution_count": null,
   "metadata": {},
   "outputs": [],
   "source": [
    "time = np.linspace(0, 1, 10000)\n",
    "plot_fourier_transform(pure_tone_frequency=1.1,\n",
    "                       signal_frequency=1,\n",
    "                       time=time,\n",
    "                       plot_centre_of_gravity=False,\n",
    "                       plot_sum=False)"
   ]
  },
  {
   "cell_type": "code",
   "execution_count": null,
   "metadata": {},
   "outputs": [],
   "source": []
  }
 ],
 "metadata": {
  "kernelspec": {
   "display_name": "Python 3 (ipykernel)",
   "language": "python",
   "name": "python3"
  },
  "language_info": {
   "codemirror_mode": {
    "name": "ipython",
    "version": 3
   },
   "file_extension": ".py",
   "mimetype": "text/x-python",
   "name": "python",
   "nbconvert_exporter": "python",
   "pygments_lexer": "ipython3",
   "version": "3.9.7"
  }
 },
 "nbformat": 4,
 "nbformat_minor": 4
}
