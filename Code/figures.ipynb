{
 "cells": [
  {
   "cell_type": "markdown",
   "source": [
    "# Chapter 2"
   ],
   "metadata": {
    "collapsed": false,
    "pycharm": {
     "name": "#%% md\n"
    }
   }
  },
  {
   "cell_type": "code",
   "execution_count": 2,
   "metadata": {
    "collapsed": true
   },
   "outputs": [],
   "source": [
    "import generate_music\n",
    "import numpy as np"
   ]
  },
  {
   "cell_type": "code",
   "execution_count": 12,
   "outputs": [],
   "source": [
    "from generate_music import make_audio\n",
    "\n",
    "c_major_file_name = '/Users/ethancobb/Documents/Thesis Data/Audio/test/c_major_test.wav'\n",
    "\n",
    "def make_c_major_edo_scale():\n",
    "    ratios = np.array([1, 2**(2/12), 2**(4/12), 2**(5/12), 2**(7/12), 2**(9/12), 2**(11/12), 2])\n",
    "    freqs = 261.63*ratios\n",
    "    np.set_printoptions(precision=3)\n",
    "    print(freqs)\n",
    "    make_audio(freqs, duration=.5, filename=c_major_file_name)"
   ],
   "metadata": {
    "collapsed": false,
    "pycharm": {
     "name": "#%%\n"
    }
   }
  },
  {
   "cell_type": "code",
   "execution_count": 13,
   "outputs": [],
   "source": [
    "# make_c_major_edo_scale()"
   ],
   "metadata": {
    "collapsed": false,
    "pycharm": {
     "name": "#%%\n"
    }
   }
  },
  {
   "cell_type": "code",
   "execution_count": 14,
   "outputs": [
    {
     "name": "stderr",
     "output_type": "stream",
     "text": [
      "2022-03-10 15:51:01.453307: I tensorflow/core/platform/cpu_feature_guard.cc:151] This TensorFlow binary is optimized with oneAPI Deep Neural Network Library (oneDNN) to use the following CPU instructions in performance-critical operations:  AVX2 FMA\n",
      "To enable them in other operations, rebuild TensorFlow with the appropriate compiler flags.\n"
     ]
    },
    {
     "name": "stdout",
     "output_type": "stream",
     "text": [
      "26/26 [==============================] - 11s 399ms/step\n",
      "93.63295880149812 percent of data retained\n",
      "OrderedDict([((0.02, 0.47998999999999997), 261.7371000393325), ((0.515, 0.97999), 294.0568108488898), ((1.015, 1.4849899999999998), 329.6611441951898), ((1.515, 1.97999), 348.9253329596941), ((2.025, 2.48499), 392.29345157784684), ((2.52, 2.9899899999999997), 440.34798132037827), ((3.015, 3.4899899999999997), 494.1533963103935), ((3.51, 3.99499), 524.5222175025417)])\n"
     ]
    }
   ],
   "source": [
    "from run_frequency_detection import run_frequency_detection3\n",
    "\n",
    "c_major_time_freq_dict = run_frequency_detection3(c_major_file_name, step_size=5, save_freq_and_conf=False,\n",
    "                                                               time_freq_output_file='', freq_output_file=\n",
    "                                                               '', conf_thresh=.9)\n",
    "print(c_major_time_freq_dict)"
   ],
   "metadata": {
    "collapsed": false,
    "pycharm": {
     "name": "#%%\n"
    }
   }
  },
  {
   "cell_type": "code",
   "execution_count": 19,
   "outputs": [
    {
     "name": "stdout",
     "output_type": "stream",
     "text": [
      "[261.737 294.057 329.661 348.925 392.293 440.348 494.153 524.522]\n"
     ]
    }
   ],
   "source": [
    "predictions = np.array(list(c_major_time_freq_dict.values()))\n",
    "np.set_printoptions(precision=3)\n",
    "print(predictions)"
   ],
   "metadata": {
    "collapsed": false,
    "pycharm": {
     "name": "#%%\n"
    }
   }
  },
  {
   "cell_type": "code",
   "execution_count": 22,
   "outputs": [
    {
     "name": "stdout",
     "output_type": "stream",
     "text": [
      "[ 0.709  2.28   0.147 -1.532  1.286  1.339  0.917  4.171]\n"
     ]
    }
   ],
   "source": [
    "from Modules.performance_statistics import calculate_cent_deviation\n",
    "ratios = np.array([1, 2**(2/12), 2**(4/12), 2**(5/12), 2**(7/12), 2**(9/12), 2**(11/12), 2])\n",
    "edo_freqs = 261.63*ratios\n",
    "print(calculate_cent_deviation(predictions, edo_freqs))"
   ],
   "metadata": {
    "collapsed": false,
    "pycharm": {
     "name": "#%%\n"
    }
   }
  },
  {
   "cell_type": "code",
   "execution_count": 26,
   "outputs": [
    {
     "name": "stdout",
     "output_type": "stream",
     "text": [
      "[0.02  0.515 1.015 1.515 2.025 2.52  3.015 3.51 ]\n"
     ]
    }
   ],
   "source": [
    "time_pred = list(c_major_time_freq_dict.keys())\n",
    "time_onset = np.array([tup[0] for tup in time_pred])\n",
    "print(time_onset)"
   ],
   "metadata": {
    "collapsed": false,
    "pycharm": {
     "name": "#%%\n"
    }
   }
  },
  {
   "cell_type": "code",
   "execution_count": 30,
   "outputs": [
    {
     "name": "stdout",
     "output_type": "stream",
     "text": [
      "[0.02  0.015 0.015 0.015 0.025 0.02  0.015 0.01 ]\n"
     ]
    }
   ],
   "source": [
    "time = np.array([.5*i for i in range(8)])\n",
    "print(time_onset - time)"
   ],
   "metadata": {
    "collapsed": false,
    "pycharm": {
     "name": "#%%\n"
    }
   }
  },
  {
   "cell_type": "markdown",
   "source": [
    "# Chapter 3"
   ],
   "metadata": {
    "collapsed": false,
    "pycharm": {
     "name": "#%% md\n"
    }
   }
  },
  {
   "cell_type": "code",
   "execution_count": null,
   "outputs": [],
   "source": [],
   "metadata": {
    "collapsed": false,
    "pycharm": {
     "name": "#%%\n"
    }
   }
  }
 ],
 "metadata": {
  "kernelspec": {
   "display_name": "Python 3",
   "language": "python",
   "name": "python3"
  },
  "language_info": {
   "codemirror_mode": {
    "name": "ipython",
    "version": 2
   },
   "file_extension": ".py",
   "mimetype": "text/x-python",
   "name": "python",
   "nbconvert_exporter": "python",
   "pygments_lexer": "ipython2",
   "version": "2.7.6"
  }
 },
 "nbformat": 4,
 "nbformat_minor": 0
}